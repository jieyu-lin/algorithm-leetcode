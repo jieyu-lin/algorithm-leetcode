{
 "cells": [
  {
   "cell_type": "code",
   "execution_count": 1,
   "metadata": {
    "scrolled": true
   },
   "outputs": [
    {
     "name": "stdout",
     "output_type": "stream",
     "text": [
      "3.7.4\n"
     ]
    }
   ],
   "source": [
    "from platform import python_version\n",
    "print(python_version())"
   ]
  },
  {
   "cell_type": "markdown",
   "metadata": {},
   "source": [
    "## House Robber"
   ]
  },
  {
   "cell_type": "markdown",
   "metadata": {},
   "source": [
    "&emsp;&emsp;&emsp;&emsp;You are a professional robber planning to rob houses along a street. Each house has a certain amount of money stashed, the only constraint stopping you from robbing each of them is that adjacent houses have security system connected and it will automatically contact the police if two adjacent houses were broken into on the same night.\n",
    "\n",
    "&emsp;&emsp;&emsp;&emsp;Given a list of non-negative integers representing the amount of money of each house, determine the maximum amount of money you can rob tonight without alerting the police."
   ]
  },
  {
   "cell_type": "markdown",
   "metadata": {},
   "source": [
    "Example 1:\n",
    "~~~\n",
    "    Input: [1,2,3,1]\n",
    "    Output: 4\n",
    "    Explanation: Rob house 1 (money = 1) and then rob house 3 (money = 3).\n",
    "                 Total amount you can rob = 1 + 3 = 4.\n",
    "~~~"
   ]
  },
  {
   "cell_type": "markdown",
   "metadata": {},
   "source": [
    "Example 2:\n",
    "~~~\n",
    "    Input: [2,7,9,3,1]\n",
    "    Output: 12\n",
    "    Explanation: Rob house 1 (money = 2), rob house 3 (money = 9) and rob house 5 (money = 1).\n",
    "                 Total amount you can rob = 2 + 9 + 1 = 12.\n",
    "~~~"
   ]
  },
  {
   "cell_type": "markdown",
   "metadata": {},
   "source": [
    "## Solution"
   ]
  },
  {
   "cell_type": "code",
   "execution_count": 2,
   "metadata": {},
   "outputs": [],
   "source": [
    "class Rob:\n",
    "    \n",
    "    # Method 1 with Space complexity: O(n)\n",
    "    def List_bottom_up(self, nums) -> int: # This problem can use bottom up method\n",
    "        \n",
    "        if not nums:\n",
    "            return 0\n",
    "        \n",
    "        if len(nums) == 1:\n",
    "            return max(0, nums[0])\n",
    "        \n",
    "        dp = [0]*len(nums) # create a list 'dp' to record \n",
    "        dp[0] = nums[0]\n",
    "        dp[1] = max(nums[0], nums[1]) # set first two index\n",
    "        \n",
    "        for i in range(2, len(nums)):\n",
    "            dp[i] = max(dp[i-2]+nums[i], dp[i-1]) # Always keep comparing previous two accumulate results\n",
    "            \n",
    "        return dp[-1] # the last one always record\n",
    "    \n",
    "    # Method 2 with Space complexity: O(1)\n",
    "    def Space_bottom_up(self, nums) -> int: # Don't care about any single value after robbing. \n",
    "\n",
    "        if not nums:\n",
    "            return 0\n",
    "\n",
    "        if len(nums) == 1:\n",
    "            return max(0, nums[0])\n",
    "\n",
    "        pre = nums[0]\n",
    "        cur = max(nums[0], nums[1]) # only keep i-1 th and i-2 th values and compare.\n",
    "        for i in range(2, len(nums)):\n",
    "            cur, pre = max(nums[i]+pre, cur), cur # cur get the best result in each term and pre get previous term of cur\n",
    "\n",
    "        return cur\n",
    "        \n",
    "        "
   ]
  },
  {
   "cell_type": "markdown",
   "metadata": {},
   "source": [
    "> Method 1: Dynamic Programming with list dp  \n",
    ">\n",
    "> &emsp;&emsp;&emsp;&emsp;New a list to remember each step of best result and return the last one.\n",
    "> * Space complexity: O(n), where n is the number of houses."
   ]
  },
  {
   "cell_type": "code",
   "execution_count": 3,
   "metadata": {},
   "outputs": [
    {
     "data": {
      "text/plain": [
       "4"
      ]
     },
     "execution_count": 3,
     "metadata": {},
     "output_type": "execute_result"
    }
   ],
   "source": [
    "Rob().List_bottom_up([1,2,3,1])"
   ]
  },
  {
   "cell_type": "code",
   "execution_count": 4,
   "metadata": {},
   "outputs": [
    {
     "data": {
      "text/plain": [
       "12"
      ]
     },
     "execution_count": 4,
     "metadata": {},
     "output_type": "execute_result"
    }
   ],
   "source": [
    "Rob().List_bottom_up([2,7,9,3,1])"
   ]
  },
  {
   "cell_type": "code",
   "execution_count": 5,
   "metadata": {},
   "outputs": [
    {
     "data": {
      "text/plain": [
       "142"
      ]
     },
     "execution_count": 5,
     "metadata": {},
     "output_type": "execute_result"
    }
   ],
   "source": [
    "Rob().List_bottom_up([1,3,60,42,5,81,11])"
   ]
  },
  {
   "cell_type": "markdown",
   "metadata": {},
   "source": [
    "> Method 2: Dynamic Programming with two variable \n",
    ">\n",
    "> &emsp;&emsp;&emsp;&emsp; It seems that the answer only care about how much robber can get. By only comparing the accumulate result of i-1 and i-2 values, we do not need to keep remember every single value for robbing.  \n",
    "> * Space complexity: O(1)"
   ]
  },
  {
   "cell_type": "code",
   "execution_count": 6,
   "metadata": {},
   "outputs": [
    {
     "data": {
      "text/plain": [
       "4"
      ]
     },
     "execution_count": 6,
     "metadata": {},
     "output_type": "execute_result"
    }
   ],
   "source": [
    "Rob().Space_bottom_up([1,2,3,1])"
   ]
  },
  {
   "cell_type": "code",
   "execution_count": 7,
   "metadata": {},
   "outputs": [
    {
     "data": {
      "text/plain": [
       "12"
      ]
     },
     "execution_count": 7,
     "metadata": {},
     "output_type": "execute_result"
    }
   ],
   "source": [
    "Rob().Space_bottom_up([2,7,9,3,1])"
   ]
  },
  {
   "cell_type": "code",
   "execution_count": 8,
   "metadata": {},
   "outputs": [
    {
     "data": {
      "text/plain": [
       "142"
      ]
     },
     "execution_count": 8,
     "metadata": {},
     "output_type": "execute_result"
    }
   ],
   "source": [
    "Rob().Space_bottom_up([1,3,60,42,5,81,11])"
   ]
  },
  {
   "cell_type": "code",
   "execution_count": null,
   "metadata": {},
   "outputs": [],
   "source": []
  }
 ],
 "metadata": {
  "kernelspec": {
   "display_name": "Python 3",
   "language": "python",
   "name": "python3"
  },
  "language_info": {
   "codemirror_mode": {
    "name": "ipython",
    "version": 3
   },
   "file_extension": ".py",
   "mimetype": "text/x-python",
   "name": "python",
   "nbconvert_exporter": "python",
   "pygments_lexer": "ipython3",
   "version": "3.7.4"
  }
 },
 "nbformat": 4,
 "nbformat_minor": 2
}
