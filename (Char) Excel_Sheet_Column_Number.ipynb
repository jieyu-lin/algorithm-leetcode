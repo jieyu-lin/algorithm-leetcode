{
 "cells": [
  {
   "cell_type": "code",
   "execution_count": 1,
   "metadata": {
    "scrolled": true
   },
   "outputs": [
    {
     "name": "stdout",
     "output_type": "stream",
     "text": [
      "3.7.4\n"
     ]
    }
   ],
   "source": [
    "from platform import python_version\n",
    "print(python_version())"
   ]
  },
  {
   "cell_type": "markdown",
   "metadata": {},
   "source": [
    "## Excel sheet column number"
   ]
  },
  {
   "cell_type": "markdown",
   "metadata": {},
   "source": [
    "Given a column title as appear in an Excel sheet, return its corresponding column number.\n",
    "\n",
    "For example:\n",
    "\n",
    "        A -> 1\n",
    "        B -> 2\n",
    "        C -> 3\n",
    "        ...\n",
    "        Z -> 26\n",
    "        AA -> 27\n",
    "        AB -> 28 \n",
    "        ...\n"
   ]
  },
  {
   "cell_type": "markdown",
   "metadata": {},
   "source": [
    "Example 1:\n",
    "~~~\n",
    "    Input: \"A\"\n",
    "    Output: 1\n",
    "    Example 2:\n",
    "\n",
    "    Input: \"AB\"\n",
    "    Output: 28\n",
    "    Example 3:\n",
    "\n",
    "    Input: \"ZY\"\n",
    "    Output: 701\n",
    "~~~"
   ]
  },
  {
   "cell_type": "markdown",
   "metadata": {},
   "source": [
    "## Solution"
   ]
  },
  {
   "cell_type": "code",
   "execution_count": 2,
   "metadata": {},
   "outputs": [],
   "source": [
    "class titleToNumber(object):\n",
    "    \n",
    "    \"\"\"\n",
    "    :type s: str\n",
    "    :rtype: int\n",
    "    \"\"\"\n",
    "        \n",
    "    # Method 1 ord method\n",
    "    def ord_method(self, s):\n",
    "        num = 0\n",
    "        for char in s:\n",
    "            num = 26*num + (ord(char)-ord('A')+1)\n",
    "        return num\n",
    "    \n",
    "    # Method 2 dictionary mapping\n",
    "    def dict_method(self, s):\n",
    "        c = dict(zip('ABCDEFGHIJKLMNOPQRSTUVWXYZ',range(1,27)))\n",
    "        num = 0\n",
    "        for char in s:\n",
    "            num = 26*num + c[char]\n",
    "        return num"
   ]
  },
  {
   "cell_type": "markdown",
   "metadata": {},
   "source": [
    "> Method 1 : ord method \n",
    ">\n",
    "> &emsp;&emsp;&emsp;&emsp;The key is to understand what ord() does. By using ord() that maps a unicode to a integer, We can get the series number of English character in integer value, so as to calculate sheet numbers. It will be a iterative multiplied by 26 process if we have more than 2 characters as sheets.\n",
    "> * Reference : https://docs.python.org/3/library/functions.html#ord\n"
   ]
  },
  {
   "cell_type": "code",
   "execution_count": 3,
   "metadata": {},
   "outputs": [
    {
     "data": {
      "text/plain": [
       "680"
      ]
     },
     "execution_count": 3,
     "metadata": {},
     "output_type": "execute_result"
    }
   ],
   "source": [
    "titleToNumber().ord_method('ZD')"
   ]
  },
  {
   "cell_type": "code",
   "execution_count": 4,
   "metadata": {},
   "outputs": [
    {
     "data": {
      "text/plain": [
       "781"
      ]
     },
     "execution_count": 4,
     "metadata": {},
     "output_type": "execute_result"
    }
   ],
   "source": [
    "titleToNumber().ord_method('ADA')"
   ]
  },
  {
   "cell_type": "code",
   "execution_count": 5,
   "metadata": {},
   "outputs": [
    {
     "data": {
      "text/plain": [
       "18273"
      ]
     },
     "execution_count": 5,
     "metadata": {},
     "output_type": "execute_result"
    }
   ],
   "source": [
    "titleToNumber().ord_method('ZZU')"
   ]
  },
  {
   "cell_type": "markdown",
   "metadata": {},
   "source": [
    "> Method 2 : dict method \n",
    ">\n",
    "> &emsp;&emsp;&emsp;&emsp;The idea is almost the same with ord(), but the mapping method for a unicode to an integer. We use dictionary to directly map from characters to their sheet numbers respectively.\n"
   ]
  },
  {
   "cell_type": "code",
   "execution_count": 6,
   "metadata": {},
   "outputs": [
    {
     "data": {
      "text/plain": [
       "680"
      ]
     },
     "execution_count": 6,
     "metadata": {},
     "output_type": "execute_result"
    }
   ],
   "source": [
    "titleToNumber().dict_method('ZD')"
   ]
  },
  {
   "cell_type": "code",
   "execution_count": 7,
   "metadata": {},
   "outputs": [
    {
     "data": {
      "text/plain": [
       "781"
      ]
     },
     "execution_count": 7,
     "metadata": {},
     "output_type": "execute_result"
    }
   ],
   "source": [
    "titleToNumber().dict_method('ADA')"
   ]
  },
  {
   "cell_type": "code",
   "execution_count": 8,
   "metadata": {},
   "outputs": [
    {
     "data": {
      "text/plain": [
       "18273"
      ]
     },
     "execution_count": 8,
     "metadata": {},
     "output_type": "execute_result"
    }
   ],
   "source": [
    "titleToNumber().dict_method('ZZU')"
   ]
  },
  {
   "cell_type": "code",
   "execution_count": null,
   "metadata": {},
   "outputs": [],
   "source": []
  }
 ],
 "metadata": {
  "kernelspec": {
   "display_name": "Python 3",
   "language": "python",
   "name": "python3"
  },
  "language_info": {
   "codemirror_mode": {
    "name": "ipython",
    "version": 3
   },
   "file_extension": ".py",
   "mimetype": "text/x-python",
   "name": "python",
   "nbconvert_exporter": "python",
   "pygments_lexer": "ipython3",
   "version": "3.7.4"
  }
 },
 "nbformat": 4,
 "nbformat_minor": 2
}
