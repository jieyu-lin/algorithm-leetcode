{
 "cells": [
  {
   "cell_type": "markdown",
   "metadata": {},
   "source": [
    "## Same Tree"
   ]
  },
  {
   "cell_type": "markdown",
   "metadata": {},
   "source": [
    "Given two binary trees, write a function to check if they are the same or not.\n",
    "\n",
    "Two binary trees are considered the same if they are structurally identical and the nodes have the same value.\n",
    "\n",
    "Example 1:\n",
    "~~~\n",
    "Input:     1         1\n",
    "          / \\       / \\\n",
    "         2   3     2   3\n",
    "\n",
    "        [1,2,3],   [1,2,3]\n",
    "\n",
    "Output: true\n",
    "~~~\n",
    "Example 2:\n",
    "~~~\n",
    "Input:     1         1\n",
    "          /           \\\n",
    "         2             2\n",
    "\n",
    "        [1,2],     [1,null,2]\n",
    "\n",
    "Output: false\n",
    "~~~\n",
    "Example 3:\n",
    "~~~\n",
    "Input:     1         1\n",
    "          / \\       / \\\n",
    "         2   1     1   2\n",
    "\n",
    "        [1,2,1],   [1,1,2]\n",
    "\n",
    "Output: false\n",
    "~~~"
   ]
  },
  {
   "cell_type": "markdown",
   "metadata": {},
   "source": [
    "## Solution"
   ]
  },
  {
   "cell_type": "code",
   "execution_count": 1,
   "metadata": {},
   "outputs": [],
   "source": [
    "from binarytree import build\n",
    "tree1 = build([1,2,2,3,4,4,3])\n",
    "tree2 = build([1,2,2,3,4,5,3])"
   ]
  },
  {
   "cell_type": "code",
   "execution_count": 2,
   "metadata": {},
   "outputs": [],
   "source": [
    "# 1. Recursion (Only Three lines of codes)\n",
    "class Solution(object):\n",
    "    def isSameTree(self, p, q):\n",
    "        # Method 1 recursive\n",
    "        if not p or not q:\n",
    "            return p == q\n",
    "        return (p.value == q.value) and self.isSameTree(p.left, q.left) and self.isSameTree(p.right, q.right)"
   ]
  },
  {
   "cell_type": "code",
   "execution_count": 3,
   "metadata": {},
   "outputs": [
    {
     "data": {
      "text/plain": [
       "False"
      ]
     },
     "execution_count": 3,
     "metadata": {},
     "output_type": "execute_result"
    }
   ],
   "source": [
    "Solution().isSameTree(tree1, tree2)"
   ]
  },
  {
   "cell_type": "code",
   "execution_count": 4,
   "metadata": {},
   "outputs": [],
   "source": [
    "# 2. while loop method (beat 98% and 100% memory saving)\n",
    "class Solution(object):\n",
    "    def isSameTree(self, p, q):\n",
    "        \n",
    "        # method 2 while loop (faster than 98%, 100% memory saving)\n",
    "        if not p or not q: \n",
    "            return p==q\n",
    "        stack_p = [p] # store node in stack_p\n",
    "        stack_q = [q] # store node in stack_q\n",
    "        \n",
    "        while any(stack_p) or any(stack_q): # check if elements are not all None\n",
    "            \n",
    "            if len(stack_p) != len(stack_q): # different nodes length in k level\n",
    "                return False\n",
    "            \n",
    "            for i in range(len(stack_p)):\n",
    "                \n",
    "                tmp_p = stack_p.pop(0) #iteratively pop nodes\n",
    "                tmp_q = stack_q.pop(0)\n",
    "                \n",
    "                if not tmp_p and not tmp_q: # None == None\n",
    "                    continue \n",
    "                \n",
    "                if tmp_p and tmp_q: # two are tree nodes\n",
    "                    if tmp_p.value == tmp_q.value: # check nodes value\n",
    "                        stack_p = stack_p + [tmp_p.left, tmp_p.right] # append left and right nodes to stack_p\n",
    "                        stack_q = stack_q + [tmp_q.left, tmp_q.right]  \n",
    "                        continue\n",
    "                    return False\n",
    "                return False\n",
    "        return True"
   ]
  },
  {
   "cell_type": "code",
   "execution_count": 5,
   "metadata": {},
   "outputs": [
    {
     "data": {
      "text/plain": [
       "False"
      ]
     },
     "execution_count": 5,
     "metadata": {},
     "output_type": "execute_result"
    }
   ],
   "source": [
    "Solution().isSameTree(tree1, tree2)"
   ]
  },
  {
   "cell_type": "code",
   "execution_count": null,
   "metadata": {},
   "outputs": [],
   "source": []
  }
 ],
 "metadata": {
  "kernelspec": {
   "display_name": "Python 3",
   "language": "python",
   "name": "python3"
  },
  "language_info": {
   "codemirror_mode": {
    "name": "ipython",
    "version": 3
   },
   "file_extension": ".py",
   "mimetype": "text/x-python",
   "name": "python",
   "nbconvert_exporter": "python",
   "pygments_lexer": "ipython3",
   "version": "3.7.4"
  }
 },
 "nbformat": 4,
 "nbformat_minor": 2
}
