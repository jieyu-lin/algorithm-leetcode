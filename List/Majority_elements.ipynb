{
 "cells": [
  {
   "cell_type": "code",
   "execution_count": 1,
   "metadata": {},
   "outputs": [],
   "source": [
    "from platform import python_version\n",
    "print(python_version())"
   ]
  },
  {
   "cell_type": "markdown",
   "metadata": {},
   "source": [
    "## Majority elements"
   ]
  },
  {
   "cell_type": "markdown",
   "metadata": {},
   "source": [
    "&emsp;&emsp;&emsp;&emsp;Given an array of size n, find the majority element. The majority element is the element that appears **more than** `⌊ n/2 ⌋` times. You may assume that the array is **non-empty** and the majority element **always exist** in the array."
   ]
  },
  {
   "cell_type": "markdown",
   "metadata": {},
   "source": [
    "Example 1:\n",
    "~~~\n",
    "    Input: [3,2,3]\n",
    "    Output: 3\n",
    "~~~"
   ]
  },
  {
   "cell_type": "markdown",
   "metadata": {},
   "source": [
    "Example 2:\n",
    "~~~\n",
    "    Input: [2,2,1,1,1,2,2]\n",
    "    Output: 2\n",
    "~~~"
   ]
  },
  {
   "cell_type": "markdown",
   "metadata": {},
   "source": [
    "## What is exactly ⌊ n/2 ⌋?"
   ]
  },
  {
   "cell_type": "markdown",
   "metadata": {},
   "source": [
    "&emsp;&emsp;&emsp;&emsp;This is a math representation of \"floor\". Given an input number x and floor function ouput a number that is less close to an integer or equal to x. Denoted as: $floor(x) = ⌊ x ⌋$. Similarity, a ceiling function gives the least integer greater than or equal to x, denoted as: $ceil(x) = \\lceil x\\rceil $.\n",
    "\n",
    "* Reference : https://en.wikipedia.org/wiki/Floor_and_ceiling_functions\n",
    "\n"
   ]
  },
  {
   "cell_type": "code",
   "execution_count": 2,
   "metadata": {},
   "outputs": [],
   "source": [
    "class majorityElement(object):\n",
    "    \n",
    "    \"\"\"\n",
    "    :type nums: List[int]\n",
    "    :rtype: int\n",
    "    \"\"\"\n",
    "    # # floor(n/2) = ⌊ n/2 ⌋ = int(len(nums)/2)\n",
    "    \n",
    "    # Method 1 : count number\n",
    "    def countNumber(self, nums):\n",
    "        for s in set(nums):\n",
    "            if nums.count(s) > int(len(nums)/2): # count each exist number and return which has largest counts\n",
    "                return s\n",
    "    \n",
    "    # Method 2 sorted\n",
    "    def sortNumber(self, nums):\n",
    "        return sorted(nums)[int(len(nums)/2)] # sorting the list and look at the middle number and return it."
   ]
  },
  {
   "cell_type": "markdown",
   "metadata": {},
   "source": [
    "> Method 1 : count\n",
    "> \n",
    "> &emsp;&emsp;&emsp;&emsp;The simple idea is just count through each number in the list and return the one that counts bigger than floor number."
   ]
  },
  {
   "cell_type": "code",
   "execution_count": 3,
   "metadata": {},
   "outputs": [],
   "source": [
    "majorityElement().countNumber([3,2,3])"
   ]
  },
  {
   "cell_type": "code",
   "execution_count": 4,
   "metadata": {},
   "outputs": [
    {
     "data": {
      "text/plain": [
       "2"
      ]
     },
     "execution_count": 4,
     "metadata": {},
     "output_type": "execute_result"
    }
   ],
   "source": [
    "majorityElement().countNumber([2,2,1,1,1,2,2])"
   ]
  },
  {
   "cell_type": "code",
   "execution_count": 5,
   "metadata": {},
   "outputs": [
    {
     "data": {
      "text/plain": [
       "2"
      ]
     },
     "execution_count": 5,
     "metadata": {},
     "output_type": "execute_result"
    }
   ],
   "source": [
    "majorityElement().countNumber([2,2,1,1,1,2,2,2,2,1,2,2,1,1,2,2,2,1,2,1,2,2])"
   ]
  },
  {
   "cell_type": "markdown",
   "metadata": {},
   "source": [
    "> Method 2 : sort\n",
    "> \n",
    "> &emsp;&emsp;&emsp;&emsp;Sort the list and return the middle index number because it garantees that the given list will always have majority element, meaning it will always have a number counting larger than half of the list length."
   ]
  },
  {
   "cell_type": "code",
   "execution_count": 6,
   "metadata": {},
   "outputs": [
    {
     "data": {
      "text/plain": [
       "3"
      ]
     },
     "execution_count": 6,
     "metadata": {},
     "output_type": "execute_result"
    }
   ],
   "source": [
    "majorityElement().sortNumber([3,2,3])"
   ]
  },
  {
   "cell_type": "code",
   "execution_count": 7,
   "metadata": {},
   "outputs": [
    {
     "data": {
      "text/plain": [
       "2"
      ]
     },
     "execution_count": 7,
     "metadata": {},
     "output_type": "execute_result"
    }
   ],
   "source": [
    "majorityElement().sortNumber([2,2,1,1,1,2,2])"
   ]
  },
  {
   "cell_type": "code",
   "execution_count": 8,
   "metadata": {},
   "outputs": [
    {
     "data": {
      "text/plain": [
       "2"
      ]
     },
     "execution_count": 8,
     "metadata": {},
     "output_type": "execute_result"
    }
   ],
   "source": [
    "majorityElement().sortNumber([2,2,1,1,1,2,2,2,2,1,2,2,1,1,2,2,2,1,2,1,2,2])"
   ]
  },
  {
   "cell_type": "code",
   "execution_count": null,
   "metadata": {},
   "outputs": [],
   "source": []
  }
 ],
 "metadata": {
  "kernelspec": {
   "display_name": "Python 3",
   "language": "python",
   "name": "python3"
  },
  "language_info": {
   "codemirror_mode": {
    "name": "ipython",
    "version": 3
   },
   "file_extension": ".py",
   "mimetype": "text/x-python",
   "name": "python",
   "nbconvert_exporter": "python",
   "pygments_lexer": "ipython3",
   "version": "3.7.4"
  }
 },
 "nbformat": 4,
 "nbformat_minor": 2
}
