{
 "cells": [
  {
   "cell_type": "code",
   "execution_count": 1,
   "metadata": {},
   "outputs": [],
   "source": [
    "from platform import python_version\n",
    "print(python_version())"
   ]
  },
  {
   "cell_type": "markdown",
   "metadata": {},
   "source": [
    "## Intersection of Two Arrays II"
   ]
  },
  {
   "cell_type": "markdown",
   "metadata": {},
   "source": [
    "&emsp;&emsp;&emsp;&emsp; Given two arrays, write a function to compute their intersection."
   ]
  },
  {
   "cell_type": "markdown",
   "metadata": {},
   "source": [
    "Example 1:\n",
    "~~~\n",
    "    Input: nums1 = [1,2,2,1], nums2 = [2,2]\n",
    "    Output: [2,2]\n",
    "~~~"
   ]
  },
  {
   "cell_type": "markdown",
   "metadata": {},
   "source": [
    "Example 2:\n",
    "~~~\n",
    "    Input: nums1 = [4,9,5], nums2 = [9,4,9,8,4]\n",
    "    Output: [4,9]\n",
    "~~~"
   ]
  },
  {
   "cell_type": "markdown",
   "metadata": {},
   "source": [
    "Note:\n",
    "\n",
    "Each element in the result should appear as many times as it shows in both arrays. The result can be in any order.\n",
    "\n",
    "Follow up:\n",
    "* What if the given array is already sorted? How would you optimize your algorithm?\n",
    "* What if nums1's size is small compared to nums2's size? Which algorithm is better?\n",
    "* What if elements of nums2 are stored on disk, and the memory is limited such that you cannot load all elements into the memory at once?"
   ]
  },
  {
   "cell_type": "markdown",
   "metadata": {},
   "source": [
    "## Solution"
   ]
  },
  {
   "cell_type": "code",
   "execution_count": 2,
   "metadata": {},
   "outputs": [],
   "source": [
    "class intersect(object):\n",
    "    \n",
    "    \n",
    "    def RemoveAppend(self, nums1, nums2):\n",
    "        \"\"\"\n",
    "        :type nums1: List[int]\n",
    "        :type nums2: List[int]\n",
    "        :rtype: List[int]\n",
    "        \"\"\"\n",
    "        if not nums1 and not nums2: return []\n",
    "        if len(nums1) > len(nums2): nums1, nums2 = nums2, nums1\n",
    "            \n",
    "        result = [] # store final list\n",
    "        for i in nums1:\n",
    "            if i in nums2:\n",
    "                nums2.remove(i) # remove a single element in nums2\n",
    "                result.append(i) # result append\n",
    "        return result \n",
    "    \n",
    "    \n",
    "    def Dictionary(self, nums1, nums2):\n",
    "        \"\"\"\n",
    "        :type nums1: List[int]\n",
    "        :type nums2: List[int]\n",
    "        :rtype: List[int]\n",
    "        \"\"\"\n",
    "        if not nums1 and not nums2: return []\n",
    "        if len(nums1) > len(nums2): nums1, nums2 = nums2, nums1\n",
    "        \n",
    "        D = {i:nums2.count(i) for i in set(nums2)} # copy nums2 dictionary in one line\n",
    "        nums2 = []\n",
    "        for i in nums1:\n",
    "            if i in D and D[i] > 0: # find element in dictionary\n",
    "                nums2.append(i) # append result\n",
    "                D[i] -= 1 # reduce the number in dictionary\n",
    "        return nums2"
   ]
  },
  {
   "cell_type": "markdown",
   "metadata": {},
   "source": [
    "> Method 1 : use remove and append\n",
    "> \n",
    "> &emsp;&emsp;&emsp;&emsp;While iteratively check a small length list element, remove the element in another list and append intersection."
   ]
  },
  {
   "cell_type": "code",
   "execution_count": 3,
   "metadata": {},
   "outputs": [
    {
     "data": {
      "text/plain": [
       "[2, 2]"
      ]
     },
     "execution_count": 3,
     "metadata": {},
     "output_type": "execute_result"
    }
   ],
   "source": [
    "intersect().RemoveAppend([1,2,2,1], [2,2])"
   ]
  },
  {
   "cell_type": "code",
   "execution_count": 4,
   "metadata": {},
   "outputs": [
    {
     "data": {
      "text/plain": [
       "[1, 3, 6, 3, 2, 4, 6, 4, 2, 4, 5, 3, 2, 2]"
      ]
     },
     "execution_count": 4,
     "metadata": {},
     "output_type": "execute_result"
    }
   ],
   "source": [
    "intersect().RemoveAppend([1,4,6,3,4,3,2,4,3,3,5,2,4,6,2,2,1], [1,3,6,3,2,4,6,4,2,4,5,7,3,2,2])"
   ]
  },
  {
   "cell_type": "markdown",
   "metadata": {},
   "source": [
    "> Method 1 : dictionary\n",
    "> \n",
    "> &emsp;&emsp;&emsp;&emsp;Transfer longest list into dictionary with key elements and value of its count number. Then, iteratively check the element if intersection exist and append for the result."
   ]
  },
  {
   "cell_type": "code",
   "execution_count": 5,
   "metadata": {},
   "outputs": [
    {
     "data": {
      "text/plain": [
       "[2, 2]"
      ]
     },
     "execution_count": 5,
     "metadata": {},
     "output_type": "execute_result"
    }
   ],
   "source": [
    "intersect().Dictionary([1,2,2,1], [2,2])"
   ]
  },
  {
   "cell_type": "code",
   "execution_count": 6,
   "metadata": {},
   "outputs": [
    {
     "data": {
      "text/plain": [
       "[1, 3, 6, 3, 2, 4, 6, 4, 2, 4, 5, 3, 2, 2]"
      ]
     },
     "execution_count": 6,
     "metadata": {},
     "output_type": "execute_result"
    }
   ],
   "source": [
    "intersect().Dictionary([1,4,6,3,4,3,2,4,3,3,5,2,4,6,2,2,1], [1,3,6,3,2,4,6,4,2,4,5,7,3,2,2])"
   ]
  },
  {
   "cell_type": "code",
   "execution_count": null,
   "metadata": {},
   "outputs": [],
   "source": []
  }
 ],
 "metadata": {
  "kernelspec": {
   "display_name": "Python 3",
   "language": "python",
   "name": "python3"
  },
  "language_info": {
   "codemirror_mode": {
    "name": "ipython",
    "version": 3
   },
   "file_extension": ".py",
   "mimetype": "text/x-python",
   "name": "python",
   "nbconvert_exporter": "python",
   "pygments_lexer": "ipython3",
   "version": "3.7.4"
  }
 },
 "nbformat": 4,
 "nbformat_minor": 2
}
