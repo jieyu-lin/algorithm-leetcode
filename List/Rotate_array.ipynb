{
 "cells": [
  {
   "cell_type": "code",
   "execution_count": 1,
   "metadata": {},
   "outputs": [
    {
     "name": "stdout",
     "output_type": "stream",
     "text": [
      "3.7.4\n"
     ]
    }
   ],
   "source": [
    "from platform import python_version\n",
    "print(python_version())"
   ]
  },
  {
   "cell_type": "markdown",
   "metadata": {},
   "source": [
    "## Rotate Array"
   ]
  },
  {
   "cell_type": "markdown",
   "metadata": {},
   "source": [
    "&emsp;&emsp;&emsp;&emsp;Given an array, rotate the array to the right by k steps, where k is non-negative."
   ]
  },
  {
   "cell_type": "markdown",
   "metadata": {},
   "source": [
    "Example 1:\n",
    "~~~\n",
    "    Input: [1,2,3,4,5,6,7] and k = 3\n",
    "    Output: [5,6,7,1,2,3,4]\n",
    "    Explanation:\n",
    "    rotate 1 steps to the right: [7,1,2,3,4,5,6]\n",
    "    rotate 2 steps to the right: [6,7,1,2,3,4,5]\n",
    "    rotate 3 steps to the right: [5,6,7,1,2,3,4]\n",
    "~~~"
   ]
  },
  {
   "cell_type": "markdown",
   "metadata": {},
   "source": [
    "Example 2:\n",
    "~~~\n",
    "    Input: [-1,-100,3,99] and k = 2\n",
    "    Output: [3,99,-1,-100]\n",
    "    Explanation: \n",
    "    rotate 1 steps to the right: [99,-1,-100,3]\n",
    "    rotate 2 steps to the right: [3,99,-1,-100]\n",
    "~~~"
   ]
  },
  {
   "cell_type": "markdown",
   "metadata": {},
   "source": [
    "Note:Try to come up as many solutions as you can, there are at least 3 different ways to solve this problem.\n",
    "Could you do it in-place with O(1) extra space?"
   ]
  },
  {
   "cell_type": "markdown",
   "metadata": {},
   "source": [
    "## Solution"
   ]
  },
  {
   "cell_type": "code",
   "execution_count": 2,
   "metadata": {},
   "outputs": [],
   "source": [
    "class rotate(object):\n",
    "    \n",
    "    \"\"\"\n",
    "    :type nums: List[int]\n",
    "    :type k: int\n",
    "    :rtype: None Do not return anything, modify nums in-place instead.\n",
    "    \"\"\"\n",
    "        \n",
    "    # Method 1 : list slicing O(1)\n",
    "    def list_slicing(self, nums, k):\n",
    "        k = k % len(nums) # round by length of nums to avoid redundant rotate\n",
    "        if len(nums) > 1 and k > 0:\n",
    "            nums[:] = nums[-k:] + nums[:-k] # get specific slicing index and swap the position of two list.\n",
    "            \n",
    "    # Method 2 : index assigning\n",
    "    def index_assigning(self, nums, k):\n",
    "        k = k % len(nums) # round by length of nums to avoid redundant rotate\n",
    "        tmp = nums[-k:] # record pre-rotated list\n",
    "        for index in range(len(nums)-1, k-1, -1): # start from the end index to iter-assign the value in the first to avoid overlapping.\n",
    "            nums[index] = nums[index-k]\n",
    "        for index, value in enumerate(tmp): # later assign recorded list to the front\n",
    "            nums[index] = value\n",
    "    \n",
    "    # Method 3 : reversed method O(1)\n",
    "    def reverse(self, nums, k):\n",
    "        k = k % len(nums) # round by length of nums to avoid redundant rotate\n",
    "        if len(nums) > 1 and  k > 0:\n",
    "            nums[:] = reversed(nums) # reverse list\n",
    "            nums[:k], nums[k:] = reversed(nums[:k]), reversed(nums[k:]) # slicing to list and reverse them respectively."
   ]
  },
  {
   "cell_type": "markdown",
   "metadata": {},
   "source": [
    "> Method 1 : list slicing  \n",
    ">\n",
    "> &emsp;&emsp;&emsp;&emsp;The most common solution exist in this kind of index re-assigning. By combining different slice of list, the answer can be easy to understand."
   ]
  },
  {
   "cell_type": "code",
   "execution_count": 3,
   "metadata": {},
   "outputs": [
    {
     "data": {
      "text/plain": [
       "[5, 6, 7, 1, 2, 3, 4]"
      ]
     },
     "execution_count": 3,
     "metadata": {},
     "output_type": "execute_result"
    }
   ],
   "source": [
    "nums1 = [1,2,3,4,5,6,7]\n",
    "rotate().list_slicing(nums1, 3)\n",
    "nums1"
   ]
  },
  {
   "cell_type": "code",
   "execution_count": 4,
   "metadata": {},
   "outputs": [
    {
     "data": {
      "text/plain": [
       "[3, 99, -1, -100]"
      ]
     },
     "execution_count": 4,
     "metadata": {},
     "output_type": "execute_result"
    }
   ],
   "source": [
    "nums2 = [-1,-100,3,99]\n",
    "rotate().list_slicing(nums2, 6) # try with out of length number\n",
    "nums2"
   ]
  },
  {
   "cell_type": "markdown",
   "metadata": {},
   "source": [
    "> Method 2 : index assigning\n",
    ">\n",
    "> &emsp;&emsp;&emsp;&emsp;Using a for loop to iteratively assign each value for the answer. First, we get the pre-reverse list in tmp. Second, starting from the end of index in nums list, we iteratively assign value remaining in original list in order. Finally, assign the value in tmp to the first index of nums list."
   ]
  },
  {
   "cell_type": "code",
   "execution_count": 5,
   "metadata": {},
   "outputs": [
    {
     "data": {
      "text/plain": [
       "[6, 7, 1, 2, 3, 4, 5]"
      ]
     },
     "execution_count": 5,
     "metadata": {},
     "output_type": "execute_result"
    }
   ],
   "source": [
    "nums1 = [1,2,3,4,5,6,7]\n",
    "rotate().index_assigning(nums1, 9) # try with out of length number\n",
    "nums1"
   ]
  },
  {
   "cell_type": "code",
   "execution_count": 6,
   "metadata": {},
   "outputs": [
    {
     "data": {
      "text/plain": [
       "[-100, 3, 99, -1]"
      ]
     },
     "execution_count": 6,
     "metadata": {},
     "output_type": "execute_result"
    }
   ],
   "source": [
    "nums2 = [-1,-100,3,99]\n",
    "rotate().index_assigning(nums2, 3) \n",
    "nums2"
   ]
  },
  {
   "cell_type": "markdown",
   "metadata": {},
   "source": [
    "> Method 3 : reverse\n",
    ">\n",
    "> &emsp;&emsp;&emsp;&emsp;The same idea with list slicing, but with reverse idea and assign to the right length of position in list."
   ]
  },
  {
   "cell_type": "code",
   "execution_count": 7,
   "metadata": {},
   "outputs": [
    {
     "data": {
      "text/plain": [
       "[3, 4, 5, 6, 7, 1, 2]"
      ]
     },
     "execution_count": 7,
     "metadata": {},
     "output_type": "execute_result"
    }
   ],
   "source": [
    "nums1 = [1,2,3,4,5,6,7]\n",
    "rotate().reverse(nums1, 19) # try with out of length number\n",
    "nums1"
   ]
  },
  {
   "cell_type": "code",
   "execution_count": 8,
   "metadata": {},
   "outputs": [
    {
     "data": {
      "text/plain": [
       "[53, 623, 45, 23, 64, 21, 74, -1, -100, 3, 99]"
      ]
     },
     "execution_count": 8,
     "metadata": {},
     "output_type": "execute_result"
    }
   ],
   "source": [
    "nums2 = [-1,-100,3,99,53,623,45,23,64,21,74]\n",
    "rotate().index_assigning(nums2, 7) \n",
    "nums2"
   ]
  },
  {
   "cell_type": "code",
   "execution_count": null,
   "metadata": {},
   "outputs": [],
   "source": []
  }
 ],
 "metadata": {
  "kernelspec": {
   "display_name": "Python 3",
   "language": "python",
   "name": "python3"
  },
  "language_info": {
   "codemirror_mode": {
    "name": "ipython",
    "version": 3
   },
   "file_extension": ".py",
   "mimetype": "text/x-python",
   "name": "python",
   "nbconvert_exporter": "python",
   "pygments_lexer": "ipython3",
   "version": "3.7.4"
  }
 },
 "nbformat": 4,
 "nbformat_minor": 2
}
