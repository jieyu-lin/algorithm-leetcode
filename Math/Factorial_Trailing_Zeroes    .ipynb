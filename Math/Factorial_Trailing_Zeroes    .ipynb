{
 "cells": [
  {
   "cell_type": "code",
   "execution_count": 1,
   "metadata": {},
   "outputs": [
    {
     "name": "stdout",
     "output_type": "stream",
     "text": [
      "3.7.4\n"
     ]
    }
   ],
   "source": [
    "from platform import python_version\n",
    "print(python_version())"
   ]
  },
  {
   "cell_type": "markdown",
   "metadata": {},
   "source": [
    "## Factorial Trailing Zroes"
   ]
  },
  {
   "cell_type": "markdown",
   "metadata": {},
   "source": [
    "&emsp;&emsp;&emsp;&emsp;Given an integer n, return the number of trailing zeroes in n!."
   ]
  },
  {
   "cell_type": "markdown",
   "metadata": {},
   "source": [
    "Example 1:\n",
    "~~~\n",
    "    Input: 3\n",
    "    Output: 0\n",
    "    Explanation: 3! = 6, no trailing zero.\n",
    "~~~"
   ]
  },
  {
   "cell_type": "markdown",
   "metadata": {},
   "source": [
    "Example 2:\n",
    "~~~\n",
    "    Input: 5\n",
    "    Output: 1\n",
    "    Explanation: 5! = 120, one trailing zero.\n",
    "    Note: Your solution should be in logarithmic time complexity.\n",
    "~~~"
   ]
  },
  {
   "cell_type": "markdown",
   "metadata": {},
   "source": [
    "## Lemma "
   ]
  },
  {
   "cell_type": "markdown",
   "metadata": {},
   "source": [
    "&emsp;&emsp;&emsp;&emsp;The only way for factorial number to generate 0 at the trial is the multiplication of 2 and 5. Factor 2 can exist in any even number, so the key to count how many 5 it will be in the factorial. For example, factorical 10! = 10 X 9 X 8 X 7 X 6 X 5 X 4 X 3 X 2 X 1 =  3,628,800. We can see every even number contributing factor 2, so the key is how many 5 in this factorical. Therefore, the total number of zeros is 2 because 5 and 10 contribute a 5 respectively."
   ]
  },
  {
   "cell_type": "markdown",
   "metadata": {},
   "source": [
    "## Solution"
   ]
  },
  {
   "cell_type": "code",
   "execution_count": 2,
   "metadata": {},
   "outputs": [],
   "source": [
    "class trailingZeroes(object):\n",
    "    \n",
    "    \"\"\"\n",
    "    :type n: int\n",
    "    :rtype: int\n",
    "    \"\"\"\n",
    "    # Method 1 : faster way\n",
    "    def factor_divide(self, n):\n",
    "        if n < 5:\n",
    "            return 0\n",
    "        s = 0 # sum the number of 5\n",
    "        k = 1 # increase the power of 5\n",
    "        while n/(5**k): # iteratively divide by power of 5 \n",
    "            s += int(n/(5**k)) # add the counted 5\n",
    "            k += 1 # increase power\n",
    "        return s\n",
    "    \n",
    "    # Method 2 : Memory saving\n",
    "    def factor_list(self, n):\n",
    "        k = list() # record every level of dividing power of 5 contributing numbers.\n",
    "        while n / (5**(len(k)+1)):\n",
    "            k.append(int(n / (5**(len(k)+1)))) # append each power level contribution of 5\n",
    "        return sum(k) # sum"
   ]
  },
  {
   "cell_type": "markdown",
   "metadata": {},
   "source": [
    "> Method 1 : faster way for iteratively summing\n",
    "> \n",
    "> &emsp;&emsp;&emsp;&emsp;Two variable are used to record the number of 5 and increase the power of 5. Once given number n cannot be equal divided by power of 5, we end the loop.\n"
   ]
  },
  {
   "cell_type": "code",
   "execution_count": 3,
   "metadata": {},
   "outputs": [
    {
     "data": {
      "text/plain": [
       "24"
      ]
     },
     "execution_count": 3,
     "metadata": {},
     "output_type": "execute_result"
    }
   ],
   "source": [
    "trailingZeroes().factor_divide(100)"
   ]
  },
  {
   "cell_type": "code",
   "execution_count": 4,
   "metadata": {},
   "outputs": [
    {
     "data": {
      "text/plain": [
       "63"
      ]
     },
     "execution_count": 4,
     "metadata": {},
     "output_type": "execute_result"
    }
   ],
   "source": [
    "trailingZeroes().factor_divide(258)"
   ]
  },
  {
   "cell_type": "code",
   "execution_count": 5,
   "metadata": {},
   "outputs": [
    {
     "data": {
      "text/plain": [
       "249"
      ]
     },
     "execution_count": 5,
     "metadata": {},
     "output_type": "execute_result"
    }
   ],
   "source": [
    "trailingZeroes().factor_divide(1002)"
   ]
  },
  {
   "cell_type": "markdown",
   "metadata": {},
   "source": [
    "> Method 2 : Memory saving way for iteratively appending\n",
    "> \n",
    "> &emsp;&emsp;&emsp;&emsp;A list is used to record the contribution of 5 in each power level of 5. Once given number n cannot be equal divided by power of 5, we end the loop."
   ]
  },
  {
   "cell_type": "code",
   "execution_count": 6,
   "metadata": {},
   "outputs": [
    {
     "data": {
      "text/plain": [
       "24"
      ]
     },
     "execution_count": 6,
     "metadata": {},
     "output_type": "execute_result"
    }
   ],
   "source": [
    "trailingZeroes().factor_list(100)"
   ]
  },
  {
   "cell_type": "code",
   "execution_count": 7,
   "metadata": {},
   "outputs": [
    {
     "data": {
      "text/plain": [
       "63"
      ]
     },
     "execution_count": 7,
     "metadata": {},
     "output_type": "execute_result"
    }
   ],
   "source": [
    "trailingZeroes().factor_list(258)"
   ]
  },
  {
   "cell_type": "code",
   "execution_count": 8,
   "metadata": {},
   "outputs": [
    {
     "data": {
      "text/plain": [
       "249"
      ]
     },
     "execution_count": 8,
     "metadata": {},
     "output_type": "execute_result"
    }
   ],
   "source": [
    "trailingZeroes().factor_list(1002)"
   ]
  },
  {
   "cell_type": "code",
   "execution_count": null,
   "metadata": {},
   "outputs": [],
   "source": []
  }
 ],
 "metadata": {
  "kernelspec": {
   "display_name": "Python 3",
   "language": "python",
   "name": "python3"
  },
  "language_info": {
   "codemirror_mode": {
    "name": "ipython",
    "version": 3
   },
   "file_extension": ".py",
   "mimetype": "text/x-python",
   "name": "python",
   "nbconvert_exporter": "python",
   "pygments_lexer": "ipython3",
   "version": "3.7.4"
  }
 },
 "nbformat": 4,
 "nbformat_minor": 2
}
