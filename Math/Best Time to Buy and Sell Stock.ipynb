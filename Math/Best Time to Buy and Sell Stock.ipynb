{
 "cells": [
  {
   "cell_type": "markdown",
   "metadata": {},
   "source": [
    "## Best Time to Buy and Sell Stock"
   ]
  },
  {
   "cell_type": "markdown",
   "metadata": {},
   "source": [
    "Say you have an array for which the ith element is the price of a given stock on day i.\n",
    "\n",
    "Design an algorithm to find the maximum profit.\n",
    "\n",
    "1. at most one transaction\n",
    "2. You may complete as many transactions as you like (i.e., buy one and sell one share of the stock multiple times).\n",
    "3. You may complete at most two transactions.\n",
    "4. You may complete at most k transactions.\n",
    "\n",
    "Note: You may not engage in multiple transactions at the same time (i.e., you must sell the stock before you buy again).\n",
    "\n",
    "Example 1:\n",
    "~~~\n",
    "Input: [7,1,5,3,6,4]\n",
    "Output: \n",
    "1. 5\n",
    "2. 7\n",
    "3. 7\n",
    "4. k = 2, 7\n",
    "Explanation: Buy on day 2 (price = 1) and sell on day 3 (price = 5), profit = 5-1 = 4.\n",
    "             Then buy on day 4 (price = 3) and sell on day 5 (price = 6), profit = 6-3 = 3.\n",
    "~~~"
   ]
  },
  {
   "cell_type": "markdown",
   "metadata": {},
   "source": [
    "## Solution for 1"
   ]
  },
  {
   "cell_type": "code",
   "execution_count": 1,
   "metadata": {},
   "outputs": [],
   "source": [
    "class Solution(object):\n",
    "    def maxProfit(self, prices):\n",
    "\n",
    "        low = float('inf') # set initial low price to be infinite \n",
    "        profit = 0 # set profit to be 0 \n",
    "        for price in prices:\n",
    "            if price < low:  # detect current price are lower than low\n",
    "                low = price \n",
    "            else:  # detect current price are higher\n",
    "                profit = max(price-low, profit) # compare the current difference and previous max profit\n",
    "        return profit"
   ]
  },
  {
   "cell_type": "code",
   "execution_count": 2,
   "metadata": {},
   "outputs": [
    {
     "data": {
      "text/plain": [
       "8"
      ]
     },
     "execution_count": 2,
     "metadata": {},
     "output_type": "execute_result"
    }
   ],
   "source": [
    "Solution().maxProfit([3,2,6,5,0,3,5,3,6,1,3,5,4,3,7,3,5,3,6,8,3,1,6])"
   ]
  },
  {
   "cell_type": "code",
   "execution_count": 3,
   "metadata": {},
   "outputs": [],
   "source": [
    "class Solution(object):\n",
    "    def maxProfit(self, prices):\n",
    "    \n",
    "        fb, fs = float('inf'), 0\n",
    "        for price in prices:\n",
    "            fb = min(fb, price) # keep minimal\n",
    "            fs = max(fs, price-fb) # compute max difference\n",
    "        return fs"
   ]
  },
  {
   "cell_type": "code",
   "execution_count": 4,
   "metadata": {},
   "outputs": [
    {
     "data": {
      "text/plain": [
       "8"
      ]
     },
     "execution_count": 4,
     "metadata": {},
     "output_type": "execute_result"
    }
   ],
   "source": [
    "Solution().maxProfit([3,2,6,5,0,3,5,3,6,1,3,5,4,3,7,3,5,3,6,8,3,1,6])"
   ]
  },
  {
   "cell_type": "markdown",
   "metadata": {},
   "source": [
    "## Solution for 2"
   ]
  },
  {
   "cell_type": "code",
   "execution_count": 5,
   "metadata": {},
   "outputs": [],
   "source": [
    "class Solution(object):\n",
    "    def maxProfit(self, prices):\n",
    "\n",
    "        # method 1\n",
    "        low, profit, earn = 9999999, 0 ,0\n",
    "        for price in prices: \n",
    "            if price - low > earn: # renew max earn in this period\n",
    "                earn = max(earn, price-low)\n",
    "\n",
    "            else: # find the price get lower\n",
    "                low = price\n",
    "                profit += earn # sum up current earning\n",
    "                earn = 0\n",
    "        return profit + earn # this for loop should add the last earn peroid"
   ]
  },
  {
   "cell_type": "code",
   "execution_count": 6,
   "metadata": {},
   "outputs": [
    {
     "data": {
      "text/plain": [
       "32"
      ]
     },
     "execution_count": 6,
     "metadata": {},
     "output_type": "execute_result"
    }
   ],
   "source": [
    "Solution().maxProfit([3,2,6,5,0,3,5,3,6,1,3,5,4,3,7,3,5,3,6,8,3,1,6])"
   ]
  },
  {
   "cell_type": "code",
   "execution_count": 7,
   "metadata": {},
   "outputs": [],
   "source": [
    "class Solution(object):\n",
    "    def maxProfit(self, prices):\n",
    "\n",
    "        # method 2\n",
    "        profit = 0\n",
    "        for i in range(1, len(prices)):\n",
    "            if prices[i] > prices[i-1]: # add each interval with earning price\n",
    "                profit += prices[i] - prices[i-1]\n",
    "        return profit"
   ]
  },
  {
   "cell_type": "code",
   "execution_count": 8,
   "metadata": {},
   "outputs": [
    {
     "data": {
      "text/plain": [
       "32"
      ]
     },
     "execution_count": 8,
     "metadata": {},
     "output_type": "execute_result"
    }
   ],
   "source": [
    "Solution().maxProfit([3,2,6,5,0,3,5,3,6,1,3,5,4,3,7,3,5,3,6,8,3,1,6])"
   ]
  },
  {
   "cell_type": "markdown",
   "metadata": {},
   "source": [
    "## Solution for 3"
   ]
  },
  {
   "cell_type": "code",
   "execution_count": 9,
   "metadata": {},
   "outputs": [],
   "source": [
    "class Solution(object):\n",
    "    def maxProfit(self, prices):\n",
    "        # dynamic programming\n",
    "        fb, fs, sb, ss = float('inf'), 0, float('inf'), 0\n",
    "        for price in prices:\n",
    "            fb = min(fb, price)  # keep minimal\n",
    "            fs = max(fs, price-fb)  # maximum if one transaction\n",
    "            sb = min(sb, price-fs)  # total drop volume level\n",
    "            ss = max(ss, price-sb)  # maximum if sum of two transactions\n",
    "        return ss"
   ]
  },
  {
   "cell_type": "code",
   "execution_count": 10,
   "metadata": {},
   "outputs": [
    {
     "data": {
      "text/plain": [
       "13"
      ]
     },
     "execution_count": 10,
     "metadata": {},
     "output_type": "execute_result"
    }
   ],
   "source": [
    "Solution().maxProfit([3,2,6,5,0,3,5,3,6,1,3,5,4,3,7,3,5,3,6,8,3,1,6])"
   ]
  },
  {
   "cell_type": "markdown",
   "metadata": {},
   "source": [
    "## Solution for 4"
   ]
  },
  {
   "cell_type": "code",
   "execution_count": 11,
   "metadata": {},
   "outputs": [],
   "source": [
    "class Solution(object):\n",
    "\n",
    "    def maxProfit(self, k, prices):\n",
    "        if not k or not prices: \n",
    "            return 0\n",
    "        \n",
    "        l = len(prices)\n",
    "        if k >= l/2: # The same case in 122. Best Time to Buy and Sell Stock II\n",
    "            profit = 0\n",
    "            for i in range(1, l):\n",
    "                if prices[i] > prices[i-1]: # add each interval with earning price\n",
    "                    profit += prices[i] - prices[i-1]\n",
    "            return profit\n",
    "\n",
    "        # two list for recording each element dynamic programming\n",
    "        # doing k times 123. Best Time to Buy and Sell Stock III\n",
    "        \n",
    "        buy = [prices[0]]+[0]*(l-1) # take first price as the lowest price\n",
    "        sell = [0]*l\n",
    "        for _ in range(k): # run k times\n",
    "            for i in range(1, l):\n",
    "                buy[i] = min(buy[i-1], prices[i]-buy[i]) # renew buy price\n",
    "                sell[i] = max(sell[i-1], prices[i]-buy[i]) # renew accumulate sell price\n",
    "            \n",
    "            buy = [prices[0]]+sell[0:] # new shift\n",
    "            sell = [0]*l # initialize for next k\n",
    "        \n",
    "        return buy[-1] # Because accumulate last price was store in buy list"
   ]
  },
  {
   "cell_type": "code",
   "execution_count": 12,
   "metadata": {},
   "outputs": [
    {
     "data": {
      "text/plain": [
       "22"
      ]
     },
     "execution_count": 12,
     "metadata": {},
     "output_type": "execute_result"
    }
   ],
   "source": [
    "Solution().maxProfit(4, [3,2,6,5,0,3,5,3,6,1,3,5,4,3,7,3,5,3,6,8,3,1,6])"
   ]
  },
  {
   "cell_type": "code",
   "execution_count": null,
   "metadata": {},
   "outputs": [],
   "source": []
  }
 ],
 "metadata": {
  "kernelspec": {
   "display_name": "Python 3",
   "language": "python",
   "name": "python3"
  },
  "language_info": {
   "codemirror_mode": {
    "name": "ipython",
    "version": 3
   },
   "file_extension": ".py",
   "mimetype": "text/x-python",
   "name": "python",
   "nbconvert_exporter": "python",
   "pygments_lexer": "ipython3",
   "version": "3.7.4"
  }
 },
 "nbformat": 4,
 "nbformat_minor": 2
}
