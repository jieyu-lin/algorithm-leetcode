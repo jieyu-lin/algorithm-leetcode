{
 "cells": [
  {
   "cell_type": "markdown",
   "metadata": {},
   "source": [
    "## Binary Search"
   ]
  },
  {
   "cell_type": "markdown",
   "metadata": {},
   "source": [
    "Given a sorted (in ascending order) integer array nums of n elements and a target value, write a function to search target in nums. If target exists, then return its index, otherwise return -1.\n",
    "\n",
    "~~~\n",
    "Example 1:\n",
    "\n",
    "Input: nums = [-1,0,3,5,9,12], target = 9\n",
    "Output: 4\n",
    "Explanation: 9 exists in nums and its index is 4\n",
    "\n",
    "Example 2:\n",
    "\n",
    "Input: nums = [-1,0,3,5,9,12], target = 2\n",
    "Output: -1\n",
    "Explanation: 2 does not exist in nums so return -1\n",
    "~~~\n",
    "\n",
    "Note:\n",
    "\n",
    "You may assume that all elements in nums are unique.\n",
    "n will be in the range [1, 10000].\n",
    "The value of each element in nums will be in the range [-9999, 9999]."
   ]
  },
  {
   "cell_type": "markdown",
   "metadata": {},
   "source": [
    "## Solution"
   ]
  },
  {
   "cell_type": "code",
   "execution_count": 1,
   "metadata": {},
   "outputs": [],
   "source": [
    "class binarysearch(object):\n",
    "    def index(self, nums, target):\n",
    "        \n",
    "        # Method 1 : build in function\n",
    "        if target not in nums:\n",
    "            return -1\n",
    "        else:\n",
    "            return nums.index(target)\n",
    "        \n",
    "    def algorithm(self, nums, target):\n",
    "        # Method 2 : binary search\n",
    "        if not nums: # extreme case\n",
    "            return -1\n",
    "        \n",
    "        if nums[-1]<target or nums[0]>target: # extreme case\n",
    "            return -1\n",
    "        \n",
    "        i, j = 0, len(nums)-1 # i and j are first and last index\n",
    "        while i <= j:\n",
    "            ind = int( (i+j)/2 ) # select i and j middle index \n",
    "            if nums[ind] == target: # element in middle index is target\n",
    "                return ind\n",
    "            elif nums[ind] > target:\n",
    "                j = ind-1 # renew j\n",
    "            else:\n",
    "                i = ind+1 # renew i\n",
    "        return -1"
   ]
  },
  {
   "cell_type": "code",
   "execution_count": 2,
   "metadata": {},
   "outputs": [
    {
     "data": {
      "text/plain": [
       "4"
      ]
     },
     "execution_count": 2,
     "metadata": {},
     "output_type": "execute_result"
    }
   ],
   "source": [
    "binarysearch().algorithm([1,2,3,4,5,6,8,7], 5)"
   ]
  },
  {
   "cell_type": "code",
   "execution_count": null,
   "metadata": {},
   "outputs": [],
   "source": []
  }
 ],
 "metadata": {
  "kernelspec": {
   "display_name": "Python 3",
   "language": "python",
   "name": "python3"
  },
  "language_info": {
   "codemirror_mode": {
    "name": "ipython",
    "version": 3
   },
   "file_extension": ".py",
   "mimetype": "text/x-python",
   "name": "python",
   "nbconvert_exporter": "python",
   "pygments_lexer": "ipython3",
   "version": "3.7.4"
  }
 },
 "nbformat": 4,
 "nbformat_minor": 2
}
