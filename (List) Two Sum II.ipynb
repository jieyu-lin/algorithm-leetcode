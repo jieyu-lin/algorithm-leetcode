{
 "cells": [
  {
   "cell_type": "markdown",
   "metadata": {},
   "source": [
    "## Two Sum II - Input array is sorted"
   ]
  },
  {
   "cell_type": "markdown",
   "metadata": {},
   "source": [
    "Given an array of integers that is already sorted in ascending order, find two numbers such that they add up to a specific target number.\n",
    "\n",
    "The function twoSum should return indices of the two numbers such that they add up to the target, where index1 must be less than index2.\n",
    "\n",
    "Note:\n",
    "\n",
    "Your returned answers (both index1 and index2) are not zero-based.\n",
    "You may assume that each input would have exactly one solution and you may not use the same element twice.\n",
    "Example:\n",
    "~~~\n",
    "Input: numbers = [2,7,11,15], target = 9\n",
    "Output: [1,2]\n",
    "Explanation: The sum of 2 and 7 is 9. Therefore index1 = 1, index2 = 2.\n",
    "~~~"
   ]
  },
  {
   "cell_type": "markdown",
   "metadata": {},
   "source": [
    "## Solution"
   ]
  },
  {
   "cell_type": "code",
   "execution_count": 1,
   "metadata": {},
   "outputs": [],
   "source": [
    "class twoSum(object):\n",
    "    \n",
    "    # Method 1: set and find index\n",
    "    def SetIndex(self, numbers, target):\n",
    "        \n",
    "        if not numbers or target is None: return\n",
    "        num = sorted(set(numbers))\n",
    "        for i in num:\n",
    "            if (target-i) in num:\n",
    "                if i != target - i:\n",
    "                    return [numbers.index(i)+1, numbers.index(target-i)+1]\n",
    "                else:\n",
    "                    return [numbers.index(i)+1, numbers.index(i)+2]\n",
    "        return\n",
    "        \n",
    "        # Method 2: search from front and back\n",
    "    def FrontBack(self, numbers, target):\n",
    "        if not numbers or target is None: return\n",
    "        front, back = 0, len(numbers)-1\n",
    "        while front < back:\n",
    "            if numbers[front] + numbers[back] == target:\n",
    "                return [front+1, back+1]\n",
    "            elif numbers[front] + numbers[back] > target:\n",
    "                back = back -1 # reduce the sum of two index elements   \n",
    "            else:\n",
    "                front = front + 1 # increase the sum of two index elements\n",
    "        return \n",
    "    \n",
    "        # Method 3: dictionary (beat 99%)\n",
    "    def Dict(self, numbers, target):\n",
    "        if not numbers or target is None: return\n",
    "        d = dict()\n",
    "        for index, i in enumerate(numbers):\n",
    "            if target - i in d:\n",
    "                return [d[target-i]+1, index+1]\n",
    "            d[i] = index\n",
    "        return "
   ]
  },
  {
   "cell_type": "markdown",
   "metadata": {},
   "source": [
    "> Method 1:\n",
    ">\n",
    "> Using set(numbers) to avoid too much iteration in for loop (time limit exceed problem). Find if the value exists that satisfy sum equal to target, return the index of two."
   ]
  },
  {
   "cell_type": "code",
   "execution_count": 2,
   "metadata": {},
   "outputs": [
    {
     "data": {
      "text/plain": [
       "[1, 2]"
      ]
     },
     "execution_count": 2,
     "metadata": {},
     "output_type": "execute_result"
    }
   ],
   "source": [
    "twoSum().SetIndex([2,7,11,13], 9)"
   ]
  },
  {
   "cell_type": "code",
   "execution_count": 3,
   "metadata": {},
   "outputs": [
    {
     "data": {
      "text/plain": [
       "[4, 5]"
      ]
     },
     "execution_count": 3,
     "metadata": {},
     "output_type": "execute_result"
    }
   ],
   "source": [
    "twoSum().SetIndex([1,2,3,4,4,9,56,90], 8)"
   ]
  },
  {
   "cell_type": "markdown",
   "metadata": {},
   "source": [
    "> Method 2:\n",
    ">\n",
    "> Start from two pointer index (front and end). Sum two elements with index front and end and compared to target. Return the match index. Adjust front and back if sum is too large or too small."
   ]
  },
  {
   "cell_type": "code",
   "execution_count": 4,
   "metadata": {},
   "outputs": [
    {
     "data": {
      "text/plain": [
       "[1, 2]"
      ]
     },
     "execution_count": 4,
     "metadata": {},
     "output_type": "execute_result"
    }
   ],
   "source": [
    "twoSum().FrontBack([2,7,11,13], 9)"
   ]
  },
  {
   "cell_type": "code",
   "execution_count": 5,
   "metadata": {},
   "outputs": [
    {
     "data": {
      "text/plain": [
       "[4, 5]"
      ]
     },
     "execution_count": 5,
     "metadata": {},
     "output_type": "execute_result"
    }
   ],
   "source": [
    "twoSum().FrontBack([1,2,3,4,4,9,56,90], 8)"
   ]
  },
  {
   "cell_type": "markdown",
   "metadata": {},
   "source": [
    "> Method 3: Dictionary (faster)\n",
    ">\n",
    "> Recording inspect data and record in dictionary. If the future search find the sum with previous data are match to target, return the index."
   ]
  },
  {
   "cell_type": "code",
   "execution_count": 6,
   "metadata": {},
   "outputs": [
    {
     "data": {
      "text/plain": [
       "[1, 2]"
      ]
     },
     "execution_count": 6,
     "metadata": {},
     "output_type": "execute_result"
    }
   ],
   "source": [
    "twoSum().Dict([2,7,11,13], 9)"
   ]
  },
  {
   "cell_type": "code",
   "execution_count": 7,
   "metadata": {},
   "outputs": [
    {
     "data": {
      "text/plain": [
       "[4, 5]"
      ]
     },
     "execution_count": 7,
     "metadata": {},
     "output_type": "execute_result"
    }
   ],
   "source": [
    "twoSum().Dict([1,2,3,4,4,9,56,90], 8)"
   ]
  },
  {
   "cell_type": "code",
   "execution_count": null,
   "metadata": {},
   "outputs": [],
   "source": []
  }
 ],
 "metadata": {
  "kernelspec": {
   "display_name": "Python 3",
   "language": "python",
   "name": "python3"
  },
  "language_info": {
   "codemirror_mode": {
    "name": "ipython",
    "version": 3
   },
   "file_extension": ".py",
   "mimetype": "text/x-python",
   "name": "python",
   "nbconvert_exporter": "python",
   "pygments_lexer": "ipython3",
   "version": "3.7.4"
  }
 },
 "nbformat": 4,
 "nbformat_minor": 2
}
