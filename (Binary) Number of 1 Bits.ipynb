{
 "cells": [
  {
   "cell_type": "code",
   "execution_count": 1,
   "metadata": {},
   "outputs": [
    {
     "name": "stdout",
     "output_type": "stream",
     "text": [
      "3.7.4\n"
     ]
    }
   ],
   "source": [
    "from platform import python_version\n",
    "print(python_version())"
   ]
  },
  {
   "cell_type": "markdown",
   "metadata": {},
   "source": [
    "## Number of 1 Bits"
   ]
  },
  {
   "cell_type": "markdown",
   "metadata": {},
   "source": [
    "&emsp;&emsp;&emsp;&emsp;Write a function that takes an unsigned integer and return the number of '1' bits it has (also known as the Hamming weight).\n"
   ]
  },
  {
   "cell_type": "markdown",
   "metadata": {},
   "source": [
    "Example 1:\n",
    "~~~\n",
    "    Input: 00000000000000000000000000001011\n",
    "    Output: 3\n",
    "    Explanation: The input binary string 00000000000000000000000000001011 has a total of three '1' bits.\n",
    "~~~"
   ]
  },
  {
   "cell_type": "markdown",
   "metadata": {},
   "source": [
    "Example 2:\n",
    "~~~\n",
    "    Input: 00000000000000000000000010000000\n",
    "    Output: 1\n",
    "    Explanation: The input binary string 00000000000000000000000010000000 has a total of one '1' bit.\n",
    "~~~"
   ]
  },
  {
   "cell_type": "markdown",
   "metadata": {},
   "source": [
    "Example 3:\n",
    "~~~\n",
    "    Input: 11111111111111111111111111111101\n",
    "    Output: 31\n",
    "    Explanation: The input binary string 11111111111111111111111111111101 has a total of thirty one '1' bits.\n",
    "~~~"
   ]
  },
  {
   "cell_type": "markdown",
   "metadata": {},
   "source": [
    "Note:\n",
    "\n",
    "&emsp;&emsp;&emsp;&emsp;Note that in some languages such as Java, there is no unsigned integer type. In this case, the input will be given as signed integer type and should not affect your implementation, as the internal binary representation of the integer is the same whether it is signed or unsigned.\n",
    "In Java, the compiler represents the signed integers using 2's complement notation. Therefore, in Example 3 above the input represents the signed integer -3.\n",
    " \n",
    "\n",
    "Follow up:\n",
    "\n",
    "&emsp;&emsp;&emsp;If this function is called many times, how would you optimize it?"
   ]
  },
  {
   "cell_type": "markdown",
   "metadata": {},
   "source": [
    "## Solution"
   ]
  },
  {
   "cell_type": "code",
   "execution_count": 2,
   "metadata": {},
   "outputs": [],
   "source": [
    "class CountBits(object):\n",
    "    \n",
    "    # Method 1: Faster than with O(n), where n is the number of given digits.\n",
    "    def hammingWeight1(self, n):  \n",
    "        sum = 0\n",
    "        for i in str(bin(n)[2:]): # Turn binary digits into string and ignore first 2 index.\n",
    "            if i == '1': # \n",
    "                sum += 1\n",
    "        return sum\n",
    "    \n",
    "    # Method 2: Memory saved with no other new variable\n",
    "    def hammingWeight2(self, n):\n",
    "        return sum([int(i) for i in str(bin(n)[2:])])"
   ]
  },
  {
   "cell_type": "markdown",
   "metadata": {},
   "source": [
    "> Method 1: One new variable with run time O(n)\n",
    "> \n",
    "> &emsp;&emsp;&emsp;&emsp;The main idea is to turn binary input as a string. Use the string list indexing to sum up if digit is 1.\n",
    "> Hint: add '0b' in front of given input because system don't read as a binary number with no '0b'."
   ]
  },
  {
   "cell_type": "code",
   "execution_count": 3,
   "metadata": {},
   "outputs": [
    {
     "data": {
      "text/plain": [
       "3"
      ]
     },
     "execution_count": 3,
     "metadata": {},
     "output_type": "execute_result"
    }
   ],
   "source": [
    "CountBits().hammingWeight1(0b00000000000000000000000000001011) # the same as given 11"
   ]
  },
  {
   "cell_type": "code",
   "execution_count": 4,
   "metadata": {},
   "outputs": [
    {
     "data": {
      "text/plain": [
       "1"
      ]
     },
     "execution_count": 4,
     "metadata": {},
     "output_type": "execute_result"
    }
   ],
   "source": [
    "CountBits().hammingWeight1(0b00000000000000000000000010000000) # the same as given 128"
   ]
  },
  {
   "cell_type": "code",
   "execution_count": 5,
   "metadata": {},
   "outputs": [
    {
     "data": {
      "text/plain": [
       "31"
      ]
     },
     "execution_count": 5,
     "metadata": {},
     "output_type": "execute_result"
    }
   ],
   "source": [
    "CountBits().hammingWeight1(0b11111111111111111111111111111101) # the same as given 4294967293"
   ]
  },
  {
   "cell_type": "markdown",
   "metadata": {},
   "source": [
    "> Method 2: No new variable with run time O(n)\n",
    "> \n",
    "> &emsp;&emsp;&emsp;&emsp; Here, we convert binary string list into integer list and implement sum function."
   ]
  },
  {
   "cell_type": "code",
   "execution_count": 6,
   "metadata": {},
   "outputs": [
    {
     "data": {
      "text/plain": [
       "3"
      ]
     },
     "execution_count": 6,
     "metadata": {},
     "output_type": "execute_result"
    }
   ],
   "source": [
    "CountBits().hammingWeight2(0b00000000000000000000000000001011) # the same as given 11"
   ]
  },
  {
   "cell_type": "code",
   "execution_count": 7,
   "metadata": {},
   "outputs": [
    {
     "data": {
      "text/plain": [
       "1"
      ]
     },
     "execution_count": 7,
     "metadata": {},
     "output_type": "execute_result"
    }
   ],
   "source": [
    "CountBits().hammingWeight2(0b00000000000000000000000010000000) # the same as given 128"
   ]
  },
  {
   "cell_type": "code",
   "execution_count": 8,
   "metadata": {},
   "outputs": [
    {
     "data": {
      "text/plain": [
       "31"
      ]
     },
     "execution_count": 8,
     "metadata": {},
     "output_type": "execute_result"
    }
   ],
   "source": [
    "CountBits().hammingWeight2(0b11111111111111111111111111111101) # the same as given 4294967293"
   ]
  },
  {
   "cell_type": "code",
   "execution_count": null,
   "metadata": {},
   "outputs": [],
   "source": []
  }
 ],
 "metadata": {
  "kernelspec": {
   "display_name": "Python 3",
   "language": "python",
   "name": "python3"
  },
  "language_info": {
   "codemirror_mode": {
    "name": "ipython",
    "version": 3
   },
   "file_extension": ".py",
   "mimetype": "text/x-python",
   "name": "python",
   "nbconvert_exporter": "python",
   "pygments_lexer": "ipython3",
   "version": "3.7.4"
  }
 },
 "nbformat": 4,
 "nbformat_minor": 2
}
