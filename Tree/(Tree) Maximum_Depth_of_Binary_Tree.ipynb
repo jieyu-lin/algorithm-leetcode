{
 "cells": [
  {
   "cell_type": "markdown",
   "metadata": {},
   "source": [
    "## Maximum Depth of Binary Tree"
   ]
  },
  {
   "cell_type": "markdown",
   "metadata": {},
   "source": [
    "Given a binary tree, find its maximum depth.\n",
    "\n",
    "The maximum depth is the number of nodes along the longest path from the root node down to the farthest leaf node.\n",
    "\n",
    "Note: A leaf is a node with no children.\n",
    "\n",
    "Example:\n",
    "~~~\n",
    "Given binary tree [3,9,20,null,null,15,7],\n",
    "\n",
    "    3\n",
    "   / \\\n",
    "  9  20\n",
    "    /  \\\n",
    "   15   7\n",
    "return its depth = 3.\n",
    "~~~"
   ]
  },
  {
   "cell_type": "markdown",
   "metadata": {},
   "source": [
    "## Solution"
   ]
  },
  {
   "cell_type": "code",
   "execution_count": 1,
   "metadata": {},
   "outputs": [],
   "source": [
    "# Definition for a binary tree node.\n",
    "# class TreeNode(object):\n",
    "#     def __init__(self, x):\n",
    "#         self.val = x\n",
    "#         self.left = None\n",
    "#         self.right = None\n",
    "\n",
    "from binarytree import build\n",
    "class maxDepth(object):\n",
    "    # method 1\n",
    "    def WhileLoop(self, root):\n",
    "        \n",
    "        if not root:  return 0\n",
    "        stack = [root]\n",
    "        depth = 0\n",
    "        \n",
    "        while stack:\n",
    "            depth += 1\n",
    "\n",
    "            for _ in range(len(stack)):\n",
    "                tmp = stack.pop(0)\n",
    "                if tmp.left: \n",
    "                    stack.append(tmp.left)\n",
    "                if tmp.right: \n",
    "                    stack.append(tmp.right)\n",
    "                    \n",
    "        return depth\n",
    "\n",
    "    # method 2\n",
    "    def Recursion1(self, root):\n",
    "        if not root: return 0\n",
    "        return max(self.Recursion1(root.left)+1, self.Recursion1(root.right)+1)\n",
    "        \n",
    "        \n",
    "    # method 3\n",
    "    def Recursion2(self, root):\n",
    "        if not root:  return 0\n",
    "        return 1 + self.checkTree(root.left, root.right)\n",
    "    \n",
    "    def checkTree(self, left, right):\n",
    "        if not left and not right: return 0\n",
    "        \n",
    "        l, r = 0, 0\n",
    "        if left:\n",
    "            l = self.checkTree(left.left, left.right)\n",
    "        \n",
    "        if right:\n",
    "            r = self.checkTree(right.left, right.right)\n",
    "        \n",
    "        return (1 + max(l, r))"
   ]
  },
  {
   "cell_type": "markdown",
   "metadata": {},
   "source": [
    "> Method 1 : while loop\n",
    ">\n",
    "> We count the depth during each while loop iteration. By stacking each node in the same level, it appends more nodes if they have validate nodes for the next level. After no node is appended, it returns the counting depth."
   ]
  },
  {
   "cell_type": "code",
   "execution_count": 2,
   "metadata": {},
   "outputs": [
    {
     "data": {
      "text/plain": [
       "3"
      ]
     },
     "execution_count": 2,
     "metadata": {},
     "output_type": "execute_result"
    }
   ],
   "source": [
    "tree = build([3,9,20,None,None,15,7])\n",
    "maxDepth().WhileLoop(tree)"
   ]
  },
  {
   "cell_type": "code",
   "execution_count": 3,
   "metadata": {},
   "outputs": [
    {
     "data": {
      "text/plain": [
       "4"
      ]
     },
     "execution_count": 3,
     "metadata": {},
     "output_type": "execute_result"
    }
   ],
   "source": [
    "tree = build([1,2,3,4,None,None,5,6,7,None,None,None,None,11,12])\n",
    "maxDepth().WhileLoop(tree)"
   ]
  },
  {
   "cell_type": "markdown",
   "metadata": {},
   "source": [
    "> Method 2 : Recursive 1 \n",
    ">\n",
    "> In the same function, we firstly check if the root node is None or not. Passing its left node and right node to do the recursive check by adding 1 to represent it has the next level. This case will only return the max depth from the root to leaf."
   ]
  },
  {
   "cell_type": "code",
   "execution_count": 4,
   "metadata": {},
   "outputs": [
    {
     "data": {
      "text/plain": [
       "3"
      ]
     },
     "execution_count": 4,
     "metadata": {},
     "output_type": "execute_result"
    }
   ],
   "source": [
    "tree = build([3,9,20,None,None,15,7])\n",
    "maxDepth().Recursion1(tree)"
   ]
  },
  {
   "cell_type": "code",
   "execution_count": 5,
   "metadata": {},
   "outputs": [
    {
     "data": {
      "text/plain": [
       "4"
      ]
     },
     "execution_count": 5,
     "metadata": {},
     "output_type": "execute_result"
    }
   ],
   "source": [
    "tree = build([1,2,3,4,None,None,5,6,7,None,None,None,None,11,12])\n",
    "maxDepth().Recursion1(tree)"
   ]
  },
  {
   "cell_type": "markdown",
   "metadata": {},
   "source": [
    "> Method 3 : Recursive 2\n",
    ">\n",
    "> Actually the same method as Method 2, but this time we separated left node and right node path to extra function."
   ]
  },
  {
   "cell_type": "code",
   "execution_count": 6,
   "metadata": {},
   "outputs": [
    {
     "data": {
      "text/plain": [
       "3"
      ]
     },
     "execution_count": 6,
     "metadata": {},
     "output_type": "execute_result"
    }
   ],
   "source": [
    "tree = build([3,9,20,None,None,15,7])\n",
    "maxDepth().Recursion2(tree)"
   ]
  },
  {
   "cell_type": "code",
   "execution_count": 7,
   "metadata": {},
   "outputs": [
    {
     "data": {
      "text/plain": [
       "4"
      ]
     },
     "execution_count": 7,
     "metadata": {},
     "output_type": "execute_result"
    }
   ],
   "source": [
    "tree = build([1,2,3,4,None,None,5,6,7,None,None,None,None,11,12])\n",
    "maxDepth().Recursion2(tree)"
   ]
  },
  {
   "cell_type": "code",
   "execution_count": null,
   "metadata": {},
   "outputs": [],
   "source": []
  }
 ],
 "metadata": {
  "kernelspec": {
   "display_name": "Python 3",
   "language": "python",
   "name": "python3"
  },
  "language_info": {
   "codemirror_mode": {
    "name": "ipython",
    "version": 3
   },
   "file_extension": ".py",
   "mimetype": "text/x-python",
   "name": "python",
   "nbconvert_exporter": "python",
   "pygments_lexer": "ipython3",
   "version": "3.7.4"
  }
 },
 "nbformat": 4,
 "nbformat_minor": 2
}
