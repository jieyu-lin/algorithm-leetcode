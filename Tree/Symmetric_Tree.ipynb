{
 "cells": [
  {
   "cell_type": "code",
   "execution_count": 1,
   "metadata": {},
   "outputs": [
    {
     "name": "stdout",
     "output_type": "stream",
     "text": [
      "3.7.0\n"
     ]
    }
   ],
   "source": [
    "from platform import python_version\n",
    "print(python_version())\n",
    "\n",
    "from binarytree import build"
   ]
  },
  {
   "cell_type": "markdown",
   "metadata": {},
   "source": [
    "## Symmetric Tree"
   ]
  },
  {
   "cell_type": "markdown",
   "metadata": {},
   "source": [
    "&emsp;&emsp;&emsp;&emsp;Given a binary tree, check whether it is a mirror of itself (ie, symmetric around its center). For example, this binary tree [1,2,2,3,4,4,3] is symmetric. But the following [1,2,2,null,3,null,3] is not."
   ]
  },
  {
   "cell_type": "markdown",
   "metadata": {},
   "source": [
    "For example,\n",
    "                         \n",
    "        1                1\n",
    "       / \\              / \\\n",
    "      2   2            2   2\n",
    "     / \\ / \\            \\   \\\n",
    "    3  4 4  3            3   3\n",
    "      (True)          (False)"
   ]
  },
  {
   "cell_type": "markdown",
   "metadata": {},
   "source": [
    "Note:\n",
    "Bonus points if you could solve it both recursively and iteratively."
   ]
  },
  {
   "cell_type": "markdown",
   "metadata": {},
   "source": [
    "### How to build a tree with a given list?\n",
    "\n",
    "&emsp;&emsp;&emsp;&emsp;A package named binarytree supports build method to build a tree from a given list."
   ]
  },
  {
   "cell_type": "code",
   "execution_count": 2,
   "metadata": {},
   "outputs": [
    {
     "name": "stdout",
     "output_type": "stream",
     "text": [
      "\n",
      "    __1__\n",
      "   /     \\\n",
      "  2       2\n",
      " / \\     / \\\n",
      "3   4   4   3\n",
      "\n",
      "\n",
      "  __1\n",
      " /   \\\n",
      "2     2\n",
      " \\     \\\n",
      "  3     3\n",
      "\n"
     ]
    }
   ],
   "source": [
    "root1 = build([1,2,2,3,4,4,3])\n",
    "print(root1)\n",
    "\n",
    "root2 = build([1,2,2,None,3,None,3])\n",
    "print(root2)"
   ]
  },
  {
   "cell_type": "markdown",
   "metadata": {},
   "source": [
    "## Solution"
   ]
  },
  {
   "cell_type": "code",
   "execution_count": 3,
   "metadata": {},
   "outputs": [],
   "source": [
    "class TreeNode:\n",
    "    \n",
    "    def __init__(self, value, left=None, right=None):\n",
    "        self.value = value\n",
    "        self.left = left\n",
    "        self.right = right\n",
    "\n",
    "    # Method 1\n",
    "    def isSymmetric_recursive(self, root) -> bool: # call isSymmetric method\n",
    "        if not root: # if root is None\n",
    "            return True\n",
    "        return self.mirror(root.left, root.right) # mirror function\n",
    "\n",
    "    def mirror(self, left, right):\n",
    "        if not left or not right: # one side of left and right is None\n",
    "            return left==right # check if both side are the same\n",
    "        if left.value != right.value: # Find value are different\n",
    "            return False\n",
    "        return self.mirror(left.left, right.right) and self.mirror(left.right, right.left) # compare in symmetric way\n",
    "    \n",
    "    \n",
    "    # Method 2\n",
    "    def isSymmetric_iterative(self, root) -> bool:\n",
    "    \n",
    "        if not root:\n",
    "            return True\n",
    "\n",
    "        stack = [root] # store first node in the first level (k=1)\n",
    "        while stack:\n",
    "            \n",
    "            tmp = list() \n",
    "            for i in range(len(stack)): # measure how many node in this level\n",
    "                node = stack.pop(0) \n",
    "\n",
    "                if node.left:\n",
    "                    tmp.append(node.left.value) # append the value to list\n",
    "                    stack.append(node.left) # append next level's node\n",
    "                else:\n",
    "                    tmp.append(None) # if no left leaf\n",
    "\n",
    "                if node.right:\n",
    "                    tmp.append(node.right.value) # append the value to list\n",
    "                    stack.append(node.right) # append next level's node\n",
    "                else:\n",
    "                    tmp.append(None) # if no right leaf\n",
    "\n",
    "            if tmp == tmp[::-1]: # whether list in this level is symmetric or not \n",
    "                continue\n",
    "\n",
    "            else:\n",
    "                return False\n",
    "\n",
    "        return True"
   ]
  },
  {
   "cell_type": "markdown",
   "metadata": {},
   "source": [
    "> **Method 1 : Recursive**\n",
    "    > * pros: Little line of codes, Easy to understand\n",
    "    > * cons: Run times limited (1000 times), time-consuming (function return)"
   ]
  },
  {
   "cell_type": "code",
   "execution_count": 4,
   "metadata": {},
   "outputs": [
    {
     "name": "stdout",
     "output_type": "stream",
     "text": [
      "\n",
      "    __1__\n",
      "   /     \\\n",
      "  2       2\n",
      " / \\     / \\\n",
      "3   4   4   3\n",
      "\n"
     ]
    },
    {
     "data": {
      "text/plain": [
       "True"
      ]
     },
     "execution_count": 4,
     "metadata": {},
     "output_type": "execute_result"
    }
   ],
   "source": [
    "print(root1)\n",
    "TreeNode(1).isSymmetric_recursive(root1)"
   ]
  },
  {
   "cell_type": "code",
   "execution_count": 5,
   "metadata": {},
   "outputs": [
    {
     "name": "stdout",
     "output_type": "stream",
     "text": [
      "\n",
      "  __1\n",
      " /   \\\n",
      "2     2\n",
      " \\     \\\n",
      "  3     3\n",
      "\n"
     ]
    },
    {
     "data": {
      "text/plain": [
       "False"
      ]
     },
     "execution_count": 5,
     "metadata": {},
     "output_type": "execute_result"
    }
   ],
   "source": [
    "print(root2)\n",
    "TreeNode(1).isSymmetric_recursive(root2)"
   ]
  },
  {
   "cell_type": "markdown",
   "metadata": {},
   "source": [
    "> **Method 2 : Iterative**\n",
    "> * pros: Can run massive tree, Time-saving.\n",
    "> * cons: several line of code."
   ]
  },
  {
   "cell_type": "code",
   "execution_count": 6,
   "metadata": {},
   "outputs": [
    {
     "name": "stdout",
     "output_type": "stream",
     "text": [
      "\n",
      "    __1__\n",
      "   /     \\\n",
      "  2       2\n",
      " / \\     / \\\n",
      "3   4   4   3\n",
      "\n"
     ]
    },
    {
     "data": {
      "text/plain": [
       "True"
      ]
     },
     "execution_count": 6,
     "metadata": {},
     "output_type": "execute_result"
    }
   ],
   "source": [
    "print(root1)\n",
    "TreeNode(1).isSymmetric_iterative(root1)"
   ]
  },
  {
   "cell_type": "code",
   "execution_count": 7,
   "metadata": {},
   "outputs": [
    {
     "name": "stdout",
     "output_type": "stream",
     "text": [
      "\n",
      "  __1\n",
      " /   \\\n",
      "2     2\n",
      " \\     \\\n",
      "  3     3\n",
      "\n"
     ]
    },
    {
     "data": {
      "text/plain": [
       "False"
      ]
     },
     "execution_count": 7,
     "metadata": {},
     "output_type": "execute_result"
    }
   ],
   "source": [
    "print(root2)\n",
    "TreeNode(1).isSymmetric_iterative(root2)"
   ]
  }
 ],
 "metadata": {
  "kernelspec": {
   "display_name": "Python 3",
   "language": "python",
   "name": "python3"
  },
  "language_info": {
   "codemirror_mode": {
    "name": "ipython",
    "version": 3
   },
   "file_extension": ".py",
   "mimetype": "text/x-python",
   "name": "python",
   "nbconvert_exporter": "python",
   "pygments_lexer": "ipython3",
   "version": "3.7.0"
  }
 },
 "nbformat": 4,
 "nbformat_minor": 2
}
