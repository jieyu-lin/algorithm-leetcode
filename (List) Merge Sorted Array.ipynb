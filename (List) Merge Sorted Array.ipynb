{
 "cells": [
  {
   "cell_type": "markdown",
   "metadata": {},
   "source": [
    "## Merge Sorted Array"
   ]
  },
  {
   "cell_type": "markdown",
   "metadata": {},
   "source": [
    "Given two sorted integer arrays nums1 and nums2, merge nums2 into nums1 as one sorted array.\n",
    "\n",
    "Note:\n",
    "\n",
    "The number of elements initialized in nums1 and nums2 are m and n respectively.\n",
    "You may assume that nums1 has enough space (size that is greater or equal to m + n) to hold additional elements from nums2.\n",
    "\n",
    "~~~\n",
    "Example:\n",
    "\n",
    "Input:\n",
    "nums1 = [1,2,3,0,0,0], m = 3\n",
    "nums2 = [2,5,6],       n = 3\n",
    "\n",
    "Output: [1,2,2,3,5,6]\n",
    "~~~"
   ]
  },
  {
   "cell_type": "markdown",
   "metadata": {},
   "source": [
    "## Solution"
   ]
  },
  {
   "cell_type": "code",
   "execution_count": 1,
   "metadata": {},
   "outputs": [],
   "source": [
    "class mergesort(object):\n",
    "    def sortedarray(self, nums1, m, nums2, n):\n",
    "        \"\"\"\n",
    "        :type nums1: List[int]\n",
    "        :type m: int\n",
    "        :type nums2: List[int]\n",
    "        :type n: int\n",
    "        :rtype: None Do not return anything, modify nums1 in-place instead.\n",
    "        \"\"\"\n",
    "        # Method 1:\n",
    "        nums1[:] = sorted(nums1[:m] + nums2)\n",
    "    \n",
    "    def mergesort(self, nums1, m, nums2, n):\n",
    "        # Method 2:\n",
    "        length = m + n - 1\n",
    "        m, n = m-1, n-1\n",
    "        \n",
    "        while m >= 0 and n >= 0:\n",
    "            if nums1[m] > nums2[n]: # compare last number in two list\n",
    "                nums1[length], nums1[m] = nums1[m], 0\n",
    "                m -= 1\n",
    "            else:\n",
    "                nums1[length] = nums2[n] # insert list two into list one\n",
    "                n -= 1\n",
    "            length -= 1\n",
    "        \n",
    "        while n >= 0:  # list two are not fully insert into list one\n",
    "            nums1[length] = nums2[n]\n",
    "            n -= 1\n",
    "            length -= 1"
   ]
  },
  {
   "cell_type": "code",
   "execution_count": 3,
   "metadata": {},
   "outputs": [
    {
     "name": "stdout",
     "output_type": "stream",
     "text": [
      "[1, 2, 3, 3, 5, 5, 6, 7, 8]\n"
     ]
    }
   ],
   "source": [
    "nums1, nums2 = [1,2,3,5,6,7,0,0,0], [3,5,8]\n",
    "mergesort().mergesort(nums1, 6, nums2, 3)\n",
    "print(nums1)"
   ]
  },
  {
   "cell_type": "code",
   "execution_count": null,
   "metadata": {},
   "outputs": [],
   "source": []
  }
 ],
 "metadata": {
  "kernelspec": {
   "display_name": "Python 3",
   "language": "python",
   "name": "python3"
  },
  "language_info": {
   "codemirror_mode": {
    "name": "ipython",
    "version": 3
   },
   "file_extension": ".py",
   "mimetype": "text/x-python",
   "name": "python",
   "nbconvert_exporter": "python",
   "pygments_lexer": "ipython3",
   "version": "3.7.4"
  }
 },
 "nbformat": 4,
 "nbformat_minor": 2
}
