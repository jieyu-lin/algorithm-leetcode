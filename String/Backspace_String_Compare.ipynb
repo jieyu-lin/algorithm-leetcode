{
 "cells": [
  {
   "cell_type": "markdown",
   "metadata": {},
   "source": [
    "## Backspace String Compare"
   ]
  },
  {
   "cell_type": "markdown",
   "metadata": {},
   "source": [
    "Given two strings S and T, return if they are equal when both are typed into empty text editors. # means a backspace character.\n",
    "\n",
    "Example 1:\n",
    "~~~\n",
    "Input: S = \"ab#c\", T = \"ad#c\"\n",
    "Output: true\n",
    "Explanation: Both S and T become \"ac\".\n",
    "~~~\n",
    "Example 2:\n",
    "~~~\n",
    "Input: S = \"ab##\", T = \"c#d#\"\n",
    "Output: true\n",
    "Explanation: Both S and T become \"\".\n",
    "~~~\n",
    "Example 3:\n",
    "~~~\n",
    "Input: S = \"a##c\", T = \"#a#c\"\n",
    "Output: true\n",
    "Explanation: Both S and T become \"c\".\n",
    "~~~\n",
    "Example 4:\n",
    "~~~\n",
    "Input: S = \"a#c\", T = \"b\"\n",
    "Output: false\n",
    "Explanation: S becomes \"c\" while T becomes \"b\".\n",
    "~~~\n",
    "Note:\n",
    "\n",
    "1 <= S.length <= 200\n",
    "1 <= T.length <= 200\n",
    "S and T only contain lowercase letters and '#' characters.\n",
    "Follow up:\n",
    "\n",
    "Can you solve it in O(N) time and O(1) space?"
   ]
  },
  {
   "cell_type": "markdown",
   "metadata": {},
   "source": [
    "## Solution"
   ]
  },
  {
   "cell_type": "code",
   "execution_count": 1,
   "metadata": {},
   "outputs": [],
   "source": [
    "class backspaceCompare(object):\n",
    "    def Index_Slicing(self, S, T):\n",
    "        # Method 1\n",
    "        while '#' in S:\n",
    "            i = S.index('#')\n",
    "            S = S[:i-1] + S[i+1:] if i > 0 else S[i+1:]\n",
    "        \n",
    "        while '#' in T:\n",
    "            i = T.index('#')\n",
    "            T = T[:i-1] + T[i+1:] if i > 0 else T[i+1:]\n",
    "                \n",
    "        return S==T\n",
    "    \n",
    "    # Method 2\n",
    "    def Clean_function(self, S, T):\n",
    "        return self.Clean(S) == self.Clean(T)\n",
    "        \n",
    "    def Clean(self, I):\n",
    "        stack = []\n",
    "        for i in I: \n",
    "            if i != '#':\n",
    "                stack.append(i)\n",
    "            elif stack:\n",
    "                del stack[-1]\n",
    "        return stack"
   ]
  },
  {
   "cell_type": "markdown",
   "metadata": {},
   "source": [
    "> Method 1 : index slicing\n",
    ">\n",
    "> Using while to clean '#' and previous character first with two string respectively. Then compare the results."
   ]
  },
  {
   "cell_type": "code",
   "execution_count": 2,
   "metadata": {},
   "outputs": [
    {
     "data": {
      "text/plain": [
       "True"
      ]
     },
     "execution_count": 2,
     "metadata": {},
     "output_type": "execute_result"
    }
   ],
   "source": [
    "S = \"a##c\"\n",
    "T = \"#a#c\"\n",
    "backspaceCompare().Index_Slicing(S, T)"
   ]
  },
  {
   "cell_type": "code",
   "execution_count": 3,
   "metadata": {},
   "outputs": [
    {
     "data": {
      "text/plain": [
       "True"
      ]
     },
     "execution_count": 3,
     "metadata": {},
     "output_type": "execute_result"
    }
   ],
   "source": [
    "S = \"ab##\"\n",
    "T = \"c#d#\"\n",
    "backspaceCompare().Index_Slicing(S, T)"
   ]
  },
  {
   "cell_type": "markdown",
   "metadata": {},
   "source": [
    "> Method 2 : Function Clean to save line of code\n",
    ">\n",
    "> By dealing two string in a function. This method can be the same with Method 1. Here I provide another method : to use list append and delete to save the clean string of T and S. Return them to do the comparison"
   ]
  },
  {
   "cell_type": "code",
   "execution_count": 4,
   "metadata": {},
   "outputs": [
    {
     "data": {
      "text/plain": [
       "True"
      ]
     },
     "execution_count": 4,
     "metadata": {},
     "output_type": "execute_result"
    }
   ],
   "source": [
    "S = \"a##c\"\n",
    "T = \"#a#c\"\n",
    "backspaceCompare().Clean_function(S, T)"
   ]
  },
  {
   "cell_type": "code",
   "execution_count": 5,
   "metadata": {},
   "outputs": [
    {
     "data": {
      "text/plain": [
       "True"
      ]
     },
     "execution_count": 5,
     "metadata": {},
     "output_type": "execute_result"
    }
   ],
   "source": [
    "S = \"ab##\"\n",
    "T = \"c#d#\"\n",
    "backspaceCompare().Index_Slicing(S, T)"
   ]
  },
  {
   "cell_type": "code",
   "execution_count": null,
   "metadata": {},
   "outputs": [],
   "source": []
  }
 ],
 "metadata": {
  "kernelspec": {
   "display_name": "Python 3",
   "language": "python",
   "name": "python3"
  },
  "language_info": {
   "codemirror_mode": {
    "name": "ipython",
    "version": 3
   },
   "file_extension": ".py",
   "mimetype": "text/x-python",
   "name": "python",
   "nbconvert_exporter": "python",
   "pygments_lexer": "ipython3",
   "version": "3.7.4"
  }
 },
 "nbformat": 4,
 "nbformat_minor": 2
}
