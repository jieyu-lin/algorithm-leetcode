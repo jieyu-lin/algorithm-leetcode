{
 "cells": [
  {
   "cell_type": "markdown",
   "metadata": {},
   "source": [
    "## Valid Palindrome"
   ]
  },
  {
   "cell_type": "markdown",
   "metadata": {},
   "source": [
    "Given a string, determine if it is a palindrome, considering only alphanumeric characters and ignoring cases.\n",
    "\n",
    "Note: For the purpose of this problem, we define empty string as valid palindrome.\n",
    "\n",
    "Example 1:\n",
    "~~~\n",
    "Input: \"A man, a plan, a canal: Panama\"\n",
    "Output: true\n",
    "~~~\n",
    "Example 2:\n",
    "~~~\n",
    "Input: \"race a car\"\n",
    "Output: false\n",
    "~~~"
   ]
  },
  {
   "cell_type": "markdown",
   "metadata": {},
   "source": [
    "## Solution"
   ]
  },
  {
   "cell_type": "code",
   "execution_count": 1,
   "metadata": {},
   "outputs": [],
   "source": [
    "import re\n",
    "class isPalindrome(object):\n",
    "    \n",
    "    # String punctuation excluded 86%\n",
    "    def isalnumber(self, s):\n",
    "        \n",
    "        if not s:\n",
    "            return True\n",
    "        s = ''.join(x.lower() for x in s if x.isalnum()) # string.punctuation + ' '\n",
    "        return s == s[::-1]\n",
    "    \n",
    "    # regular expression\n",
    "    def regex(self, s):\n",
    "        if not s:\n",
    "            return True\n",
    "        s = re.sub('\\W+','', s).lower()\n",
    "        return s == s[::-1]\n",
    "        # https://www.quora.com/How-do-I-remove-punctuation-from-a-Python-string\n",
    "        # https://stackoverflow.com/questions/5843518/remove-all-special-characters-punctuation-and-spaces-from-string"
   ]
  },
  {
   "cell_type": "markdown",
   "metadata": {},
   "source": [
    "> Method 1 : use isalnum() to check \n",
    ">\n",
    "> By separating string elements and check if element is alphabet or number. Remove space and punctuation with for loop and join function.  \n",
    ">\n",
    "> Reference : https://docs.python.org/3/library/stdtypes.html#str.isalnum"
   ]
  },
  {
   "cell_type": "code",
   "execution_count": 2,
   "metadata": {},
   "outputs": [
    {
     "data": {
      "text/plain": [
       "True"
      ]
     },
     "execution_count": 2,
     "metadata": {},
     "output_type": "execute_result"
    }
   ],
   "source": [
    "isPalindrome().isalnumber(\"A man, a plan, a canal: Panama\")"
   ]
  },
  {
   "cell_type": "code",
   "execution_count": 3,
   "metadata": {},
   "outputs": [
    {
     "data": {
      "text/plain": [
       "False"
      ]
     },
     "execution_count": 3,
     "metadata": {},
     "output_type": "execute_result"
    }
   ],
   "source": [
    "isPalindrome().isalnumber(\"race a car\")"
   ]
  },
  {
   "cell_type": "markdown",
   "metadata": {},
   "source": [
    "> Method 2 : use regular expression\n",
    ">\n",
    "> By regular expression to exclude punctuation and space by \\W+.  \n",
    ">\n",
    "> Reference 1 : https://www.quora.com/How-do-I-remove-punctuation-from-a-Python-string  \n",
    "> Reference 2 : https://stackoverflow.com/questions/5843518/remove-all-special-characters-punctuation-and-spaces-from-string"
   ]
  },
  {
   "cell_type": "code",
   "execution_count": 4,
   "metadata": {},
   "outputs": [
    {
     "data": {
      "text/plain": [
       "True"
      ]
     },
     "execution_count": 4,
     "metadata": {},
     "output_type": "execute_result"
    }
   ],
   "source": [
    "isPalindrome().regex(\"A man, a plan, a canal: Panama\")"
   ]
  },
  {
   "cell_type": "code",
   "execution_count": 5,
   "metadata": {},
   "outputs": [
    {
     "data": {
      "text/plain": [
       "False"
      ]
     },
     "execution_count": 5,
     "metadata": {},
     "output_type": "execute_result"
    }
   ],
   "source": [
    "isPalindrome().regex(\"race a car\")"
   ]
  },
  {
   "cell_type": "code",
   "execution_count": null,
   "metadata": {},
   "outputs": [],
   "source": []
  }
 ],
 "metadata": {
  "kernelspec": {
   "display_name": "Python 3",
   "language": "python",
   "name": "python3"
  },
  "language_info": {
   "codemirror_mode": {
    "name": "ipython",
    "version": 3
   },
   "file_extension": ".py",
   "mimetype": "text/x-python",
   "name": "python",
   "nbconvert_exporter": "python",
   "pygments_lexer": "ipython3",
   "version": "3.7.4"
  }
 },
 "nbformat": 4,
 "nbformat_minor": 2
}
