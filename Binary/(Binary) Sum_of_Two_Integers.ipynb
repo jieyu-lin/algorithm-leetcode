{
 "cells": [
  {
   "cell_type": "markdown",
   "metadata": {},
   "source": [
    "## Sum of Two Integers"
   ]
  },
  {
   "cell_type": "markdown",
   "metadata": {},
   "source": [
    "Calculate the sum of two integers a and b, but you are not allowed to use the operator + and -.\n",
    "\n",
    "Example 1:\n",
    "~~~\n",
    "Input: a = 1, b = 2\n",
    "Output: 3\n",
    "~~~\n",
    "Example 2:\n",
    "~~~\n",
    "Input: a = -2, b = 3\n",
    "Output: 1\n",
    "~~~"
   ]
  },
  {
   "cell_type": "markdown",
   "metadata": {},
   "source": [
    "## Solution"
   ]
  },
  {
   "cell_type": "code",
   "execution_count": 1,
   "metadata": {},
   "outputs": [],
   "source": [
    "class getSum(object):\n",
    "    def bit_add_while(self, a, b):\n",
    "        # Prevent negative number\n",
    "        while b & 0xffffffff: # b & 0xffffffff will remain the same as b\n",
    "            c = a & b\n",
    "            a = a ^ b\n",
    "            b = c << 1\n",
    "        \n",
    "        return a & 0xffffffff if b > 0xffffffff else a\n",
    "    \n",
    "    def bit_add_recursive(self, a, b):\n",
    "        # Bitwise recursive\n",
    "        if b & 0xffffffff != 0:\n",
    "            return self.bit_add_recursive(a ^ b, (a & b) << 1) \n",
    "        else:\n",
    "            return (a & 0xffffffff) if b > 0xffffffff else a"
   ]
  },
  {
   "cell_type": "markdown",
   "metadata": {},
   "source": [
    "> Method 1 : bitwise while loop\n",
    ">\n",
    "> Sum of two bits can be obtained by performing XOR (^) of the two bits. Carry bit can be obtained by performing AND (&) of two bits. \n",
    ">\n",
    "> Reference : https://www.geeksforgeeks.org/add-two-numbers-without-using-arithmetic-operators/"
   ]
  },
  {
   "cell_type": "code",
   "execution_count": 2,
   "metadata": {},
   "outputs": [
    {
     "data": {
      "text/plain": [
       "0"
      ]
     },
     "execution_count": 2,
     "metadata": {},
     "output_type": "execute_result"
    }
   ],
   "source": [
    "getSum().bit_add_while(-1,1)"
   ]
  },
  {
   "cell_type": "code",
   "execution_count": 3,
   "metadata": {},
   "outputs": [
    {
     "data": {
      "text/plain": [
       "734"
      ]
     },
     "execution_count": 3,
     "metadata": {},
     "output_type": "execute_result"
    }
   ],
   "source": [
    "getSum().bit_add_while(200,534)"
   ]
  },
  {
   "cell_type": "markdown",
   "metadata": {},
   "source": [
    "> Method 2 : bitwise while loop\n",
    ">\n",
    "> Sum of two bits can be obtained by performing XOR (^) of the two bits. Carry bit can be obtained by performing AND (&) of two bits. Using recursive method to complete several computation.\n",
    ">\n",
    "> Reference : https://www.geeksforgeeks.org/add-two-numbers-without-using-arithmetic-operators/"
   ]
  },
  {
   "cell_type": "code",
   "execution_count": 4,
   "metadata": {},
   "outputs": [
    {
     "data": {
      "text/plain": [
       "0"
      ]
     },
     "execution_count": 4,
     "metadata": {},
     "output_type": "execute_result"
    }
   ],
   "source": [
    "getSum().bit_add_recursive(-1,1)"
   ]
  },
  {
   "cell_type": "code",
   "execution_count": 5,
   "metadata": {},
   "outputs": [
    {
     "data": {
      "text/plain": [
       "734"
      ]
     },
     "execution_count": 5,
     "metadata": {},
     "output_type": "execute_result"
    }
   ],
   "source": [
    "getSum().bit_add_recursive(200,534)"
   ]
  },
  {
   "cell_type": "code",
   "execution_count": null,
   "metadata": {},
   "outputs": [],
   "source": []
  }
 ],
 "metadata": {
  "kernelspec": {
   "display_name": "Python 3",
   "language": "python",
   "name": "python3"
  },
  "language_info": {
   "codemirror_mode": {
    "name": "ipython",
    "version": 3
   },
   "file_extension": ".py",
   "mimetype": "text/x-python",
   "name": "python",
   "nbconvert_exporter": "python",
   "pygments_lexer": "ipython3",
   "version": "3.7.4"
  }
 },
 "nbformat": 4,
 "nbformat_minor": 2
}
