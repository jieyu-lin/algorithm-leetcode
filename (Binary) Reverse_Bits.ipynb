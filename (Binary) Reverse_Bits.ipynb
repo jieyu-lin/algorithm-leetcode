{
 "cells": [
  {
   "cell_type": "code",
   "execution_count": 1,
   "metadata": {
    "scrolled": true
   },
   "outputs": [
    {
     "name": "stdout",
     "output_type": "stream",
     "text": [
      "3.7.4\n"
     ]
    }
   ],
   "source": [
    "from platform import python_version\n",
    "print(python_version())"
   ]
  },
  {
   "cell_type": "markdown",
   "metadata": {},
   "source": [
    "## Reverse Bits"
   ]
  },
  {
   "cell_type": "markdown",
   "metadata": {},
   "source": [
    "&emsp;&emsp;&emsp;&emsp;Reverse bits of a given 32 bits unsigned integer."
   ]
  },
  {
   "cell_type": "markdown",
   "metadata": {},
   "source": [
    "Example 1:\n",
    "~~~\n",
    "    Input: 00000010100101000001111010011100\n",
    "    Output: 00111001011110000010100101000000\n",
    "    Explanation: The input binary string 00000010100101000001111010011100 represents the unsigned integer 43261596, so return 964176192 which its binary representation is 00111001011110000010100101000000.\n",
    "~~~"
   ]
  },
  {
   "cell_type": "markdown",
   "metadata": {},
   "source": [
    "Example 2:\n",
    "~~~\n",
    "    Input: 11111111111111111111111111111101\n",
    "    Output: 10111111111111111111111111111111\n",
    "    Explanation: The input binary string 11111111111111111111111111111101 represents the unsigned integer 4294967293, so return 3221225471 which its binary representation is 10101111110010110010011101101001.\n",
    "~~~"
   ]
  },
  {
   "cell_type": "markdown",
   "metadata": {},
   "source": [
    "## Solution"
   ]
  },
  {
   "cell_type": "code",
   "execution_count": 2,
   "metadata": {},
   "outputs": [],
   "source": [
    "class reverseBits:\n",
    "    # param n, an integer\n",
    "    # return an integer\n",
    "    \n",
    "    # Method 1 : bits manipulation\n",
    "    def bits_manipulation(self, n):\n",
    "        bits = 0\n",
    "        for i in range(32):\n",
    "            bits = (bits << 1) + (n & 1) # shifting bits to left by one and add (n and 1 bit)\n",
    "            n >>= 1 # n shift right by 1 \n",
    "        return bits\n",
    "        \n",
    "        \n",
    "    #  Method 2 : formatting\n",
    "    def formatting(self, n):\n",
    "        return int('{:0>32b}'.format(n)[::-1], 2) # format by binary and compensated by 0 if not 32 bits, then reverse it."
   ]
  },
  {
   "cell_type": "markdown",
   "metadata": {},
   "source": [
    "> Method 1 : Bits manipulation\n",
    ">\n",
    "> &emsp;&emsp;&emsp;&emsp; By iteratively shifting and adding the last bit, it becomes the number that binary reversed.\n",
    "> * Reference : https://tutorialedge.net/compsci/bit-manipulation-for-beginners/"
   ]
  },
  {
   "cell_type": "code",
   "execution_count": 3,
   "metadata": {},
   "outputs": [
    {
     "data": {
      "text/plain": [
       "964176192"
      ]
     },
     "execution_count": 3,
     "metadata": {},
     "output_type": "execute_result"
    }
   ],
   "source": [
    "reverseBits().bits_manipulation(43261596) # the same with input 0b00000010100101000001111010011100"
   ]
  },
  {
   "cell_type": "code",
   "execution_count": 4,
   "metadata": {},
   "outputs": [
    {
     "data": {
      "text/plain": [
       "43261596"
      ]
     },
     "execution_count": 4,
     "metadata": {},
     "output_type": "execute_result"
    }
   ],
   "source": [
    "reverseBits().bits_manipulation(964176192) # check "
   ]
  },
  {
   "cell_type": "code",
   "execution_count": 5,
   "metadata": {},
   "outputs": [
    {
     "data": {
      "text/plain": [
       "3221225471"
      ]
     },
     "execution_count": 5,
     "metadata": {},
     "output_type": "execute_result"
    }
   ],
   "source": [
    "reverseBits().bits_manipulation(0b11111111111111111111111111111101) # the same with input 4294967293"
   ]
  },
  {
   "cell_type": "code",
   "execution_count": 6,
   "metadata": {},
   "outputs": [
    {
     "data": {
      "text/plain": [
       "4294967293"
      ]
     },
     "execution_count": 6,
     "metadata": {},
     "output_type": "execute_result"
    }
   ],
   "source": [
    "reverseBits().bits_manipulation(0b10111111111111111111111111111111) # check"
   ]
  },
  {
   "cell_type": "markdown",
   "metadata": {},
   "source": [
    "> Method 2 : formatting\n",
    ">\n",
    "> &emsp;&emsp;&emsp;&emsp; using format rules to turn integer (binary) into 32-bits binary string list, reverse it and return with integer format in binary.\n",
    "> * Reference : https://www.geeksforgeeks.org/python-format-function/"
   ]
  },
  {
   "cell_type": "code",
   "execution_count": 7,
   "metadata": {},
   "outputs": [
    {
     "data": {
      "text/plain": [
       "964176192"
      ]
     },
     "execution_count": 7,
     "metadata": {},
     "output_type": "execute_result"
    }
   ],
   "source": [
    "reverseBits().formatting(43261596) # the same with input 0b00000010100101000001111010011100"
   ]
  },
  {
   "cell_type": "code",
   "execution_count": 8,
   "metadata": {},
   "outputs": [
    {
     "data": {
      "text/plain": [
       "43261596"
      ]
     },
     "execution_count": 8,
     "metadata": {},
     "output_type": "execute_result"
    }
   ],
   "source": [
    "reverseBits().formatting(964176192) # check"
   ]
  },
  {
   "cell_type": "code",
   "execution_count": 9,
   "metadata": {},
   "outputs": [
    {
     "data": {
      "text/plain": [
       "3221225471"
      ]
     },
     "execution_count": 9,
     "metadata": {},
     "output_type": "execute_result"
    }
   ],
   "source": [
    "reverseBits().formatting(0b11111111111111111111111111111101) # the same with input 4294967293"
   ]
  },
  {
   "cell_type": "code",
   "execution_count": 10,
   "metadata": {},
   "outputs": [
    {
     "data": {
      "text/plain": [
       "4294967293"
      ]
     },
     "execution_count": 10,
     "metadata": {},
     "output_type": "execute_result"
    }
   ],
   "source": [
    "reverseBits().formatting(0b10111111111111111111111111111111) # check"
   ]
  },
  {
   "cell_type": "code",
   "execution_count": null,
   "metadata": {},
   "outputs": [],
   "source": []
  }
 ],
 "metadata": {
  "kernelspec": {
   "display_name": "Python 3",
   "language": "python",
   "name": "python3"
  },
  "language_info": {
   "codemirror_mode": {
    "name": "ipython",
    "version": 3
   },
   "file_extension": ".py",
   "mimetype": "text/x-python",
   "name": "python",
   "nbconvert_exporter": "python",
   "pygments_lexer": "ipython3",
   "version": "3.7.4"
  }
 },
 "nbformat": 4,
 "nbformat_minor": 2
}
