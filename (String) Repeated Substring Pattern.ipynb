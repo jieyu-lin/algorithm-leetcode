{
 "cells": [
  {
   "cell_type": "code",
   "execution_count": 1,
   "metadata": {},
   "outputs": [
    {
     "name": "stdout",
     "output_type": "stream",
     "text": [
      "3.7.0\n"
     ]
    }
   ],
   "source": [
    "from platform import python_version\n",
    "print(python_version())"
   ]
  },
  {
   "cell_type": "markdown",
   "metadata": {},
   "source": [
    "## Repeated Substring Pattern"
   ]
  },
  {
   "cell_type": "markdown",
   "metadata": {},
   "source": [
    "&emsp;&emsp;&emsp;&emsp;Given a non-empty string check if it can be constructed by taking a substring of it and appending multiple copies of the substring together. You may assume the given string consists of lowercase English letters only and its length will not exceed 10000."
   ]
  },
  {
   "cell_type": "markdown",
   "metadata": {},
   "source": [
    "Example 1:\n",
    "~~~ \n",
    "   Input: \"abab\"\n",
    "   Output: True\n",
    "   Explanation: It is the substring \"ab\" twice.\n",
    "~~~\n"
   ]
  },
  {
   "cell_type": "markdown",
   "metadata": {},
   "source": [
    "Example 2:\n",
    "~~~\n",
    "  Input: \"aba\"\n",
    "  Output: False\n",
    "~~~"
   ]
  },
  {
   "cell_type": "markdown",
   "metadata": {},
   "source": [
    "Example 3:\n",
    "~~~\n",
    "  Input: \"abcabcabcabc\"\n",
    "  Output: True\n",
    "  Explanation: It's the substring \"abc\" four times. (And the substring \"abcabc\" twice.)\n",
    "~~~"
   ]
  },
  {
   "cell_type": "markdown",
   "metadata": {},
   "source": [
    "## Solution"
   ]
  },
  {
   "cell_type": "code",
   "execution_count": 2,
   "metadata": {},
   "outputs": [],
   "source": [
    "class RepeatSubstringPattern:\n",
    "    \n",
    "    def __init__(self, string):\n",
    "        s = string\n",
    "    \n",
    "    # Method 1 (Knuth Morris Pratt Pattern Searching)\n",
    "    def KMP(self, s) -> bool:\n",
    "        \n",
    "        if not s:\n",
    "            return False\n",
    "        \n",
    "        n = len(s)\n",
    "        for i in range(1, int(n/2)+1): # only check the length < half length of string\n",
    "            if n % i == 0 and int(n/i)*s[:i] == s: # check repeating (n/i) times of substring is the same as s\n",
    "                return True\n",
    "            \n",
    "        return False\n",
    "    \n",
    "    # Method 2\n",
    "    def find_repeatsubstring(self, s) -> bool:\n",
    "        newstr = s[1:] + s[:-1] # concate two string (one removing head and the other removing tail)\n",
    "        return newstr.find(s) != -1 # find string s exist in new string and compared with -1 "
   ]
  },
  {
   "cell_type": "markdown",
   "metadata": {},
   "source": [
    "> Method 1: Knuth Morris Pratt(KMP) Algorithm \n",
    "> \n",
    "> &emsp;&emsp;&emsp;&emsp; The KMP algorithm searches for occurrences of a \"word\" W within a main \"text string\" S. The idea is to compare each character in W and S and it shifts right by 1 once mismatch happens until we find the match or comparing all the characters.\n",
    "> * Worse case : O(n)\n",
    "> * Reference: KMP Algorithm for pattern searching https://www.geeksforgeeks.org/kmp-algorithm-for-pattern-searching/\n",
    "> * Reference: Counting time https://www.geeksforgeeks.org/find-given-string-can-represented-substring-iterating-substring-n-times/"
   ]
  },
  {
   "cell_type": "code",
   "execution_count": 3,
   "metadata": {},
   "outputs": [
    {
     "data": {
      "text/plain": [
       "True"
      ]
     },
     "execution_count": 3,
     "metadata": {},
     "output_type": "execute_result"
    }
   ],
   "source": [
    "s1 = \"abab\"\n",
    "RepeatSubstringPattern(1).KMP(s1)"
   ]
  },
  {
   "cell_type": "code",
   "execution_count": 4,
   "metadata": {},
   "outputs": [
    {
     "data": {
      "text/plain": [
       "False"
      ]
     },
     "execution_count": 4,
     "metadata": {},
     "output_type": "execute_result"
    }
   ],
   "source": [
    "s2 = \"aba\"\n",
    "RepeatSubstringPattern(1).KMP(s2)"
   ]
  },
  {
   "cell_type": "code",
   "execution_count": 5,
   "metadata": {},
   "outputs": [
    {
     "data": {
      "text/plain": [
       "True"
      ]
     },
     "execution_count": 5,
     "metadata": {},
     "output_type": "execute_result"
    }
   ],
   "source": [
    "s3 = \"abcabcabcabc\"\n",
    "RepeatSubstringPattern(1).KMP(s3)"
   ]
  },
  {
   "cell_type": "markdown",
   "metadata": {},
   "source": [
    "> Method 2: Find function\n",
    "> \n",
    "> &emsp;&emsp;&emsp;&emsp; A find function built in python package can search whether substring s is in the main string S. It returns the index of the substring s started if substring s is finded in main string S. Otherwise, it returns -1.\n",
    "> * Worse case : O(n)\n",
    "> * Reference: String find https://www.geeksforgeeks.org/string-find-python/"
   ]
  },
  {
   "cell_type": "code",
   "execution_count": 6,
   "metadata": {},
   "outputs": [
    {
     "data": {
      "text/plain": [
       "True"
      ]
     },
     "execution_count": 6,
     "metadata": {},
     "output_type": "execute_result"
    }
   ],
   "source": [
    "s1 = \"abab\"\n",
    "RepeatSubstringPattern(1).find_repeatsubstring(s1)"
   ]
  },
  {
   "cell_type": "code",
   "execution_count": 7,
   "metadata": {},
   "outputs": [
    {
     "data": {
      "text/plain": [
       "False"
      ]
     },
     "execution_count": 7,
     "metadata": {},
     "output_type": "execute_result"
    }
   ],
   "source": [
    "s2 = \"aba\"\n",
    "RepeatSubstringPattern(1).find_repeatsubstring(s2)"
   ]
  },
  {
   "cell_type": "code",
   "execution_count": 8,
   "metadata": {},
   "outputs": [
    {
     "data": {
      "text/plain": [
       "True"
      ]
     },
     "execution_count": 8,
     "metadata": {},
     "output_type": "execute_result"
    }
   ],
   "source": [
    "s3 = \"abcabcabcabc\"\n",
    "RepeatSubstringPattern(1).find_repeatsubstring(s3)"
   ]
  },
  {
   "cell_type": "code",
   "execution_count": null,
   "metadata": {},
   "outputs": [],
   "source": []
  }
 ],
 "metadata": {
  "kernelspec": {
   "display_name": "Python 3",
   "language": "python",
   "name": "python3"
  },
  "language_info": {
   "codemirror_mode": {
    "name": "ipython",
    "version": 3
   },
   "file_extension": ".py",
   "mimetype": "text/x-python",
   "name": "python",
   "nbconvert_exporter": "python",
   "pygments_lexer": "ipython3",
   "version": "3.7.0"
  }
 },
 "nbformat": 4,
 "nbformat_minor": 2
}
